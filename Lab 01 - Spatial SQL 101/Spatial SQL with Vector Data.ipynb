{
 "cells": [
  {
   "cell_type": "code",
   "execution_count": 0,
   "metadata": {
    "application/vnd.databricks.v1+cell": {
     "cellMetadata": {
      "byteLimit": 2048000,
      "rowLimit": 10000
     },
     "inputWidgets": {},
     "nuid": "6b190a60-4f12-4d8d-8936-68939dc15c9c",
     "showTitle": false,
     "tableResultSettingsMap": {},
     "title": ""
    }
   },
   "outputs": [],
   "source": [
    "import os\n",
    "import geopandas as gpd\n",
    "import pyspark.databricks.sql.functions as DBF\n",
    "import pyspark.sql.functions as F"
   ]
  },
  {
   "cell_type": "markdown",
   "metadata": {
    "application/vnd.databricks.v1+cell": {
     "cellMetadata": {
      "byteLimit": 2048000,
      "rowLimit": 10000
     },
     "inputWidgets": {},
     "nuid": "adcea0ea-1121-4c72-b8fc-890d108bfbcd",
     "showTitle": false,
     "tableResultSettingsMap": {},
     "title": ""
    }
   },
   "source": [
    "### What ST_ functions are available?"
   ]
  },
  {
   "cell_type": "code",
   "execution_count": 0,
   "metadata": {
    "application/vnd.databricks.v1+cell": {
     "cellMetadata": {
      "byteLimit": 2048000,
      "rowLimit": 10000
     },
     "inputWidgets": {},
     "nuid": "3109440e-eb80-4174-9aa2-0b924e0b31e5",
     "showTitle": false,
     "tableResultSettingsMap": {},
     "title": ""
    }
   },
   "outputs": [],
   "source": [
    "catalog = dbutils.widgets.get(\"catalog\")\n",
    "schema = dbutils.widgets.get(\"schema\")\n",
    "\n",
    "spark.sql(f\"USE CATALOG {catalog}\")\n",
    "spark.sql(f\"USE SCHEMA {schema}\")"
   ]
  },
  {
   "cell_type": "code",
   "execution_count": 0,
   "metadata": {
    "application/vnd.databricks.v1+cell": {
     "cellMetadata": {
      "byteLimit": 2048000,
      "implicitDf": true,
      "rowLimit": 10000
     },
     "inputWidgets": {},
     "nuid": "30b45687-c369-456b-b88b-e2510a51ee7b",
     "showTitle": false,
     "tableResultSettingsMap": {},
     "title": ""
    }
   },
   "outputs": [],
   "source": [
    "%sql\n",
    "USE CATALOG IDENTIFIER(:catalog);\n",
    "USE SCHEMA IDENTIFIER(:schema);"
   ]
  },
  {
   "cell_type": "code",
   "execution_count": 0,
   "metadata": {
    "application/vnd.databricks.v1+cell": {
     "cellMetadata": {
      "byteLimit": 2048000,
      "implicitDf": true,
      "rowLimit": 10000
     },
     "inputWidgets": {},
     "nuid": "e27769f6-9663-4e8c-a6c2-10ed99c5ac29",
     "showTitle": false,
     "tableResultSettingsMap": {},
     "title": ""
    }
   },
   "outputs": [],
   "source": [
    "%sql\n",
    "SHOW FUNCTIONS LIKE 'ST_*'"
   ]
  },
  {
   "cell_type": "markdown",
   "metadata": {
    "application/vnd.databricks.v1+cell": {
     "cellMetadata": {
      "byteLimit": 2048000,
      "rowLimit": 10000
     },
     "inputWidgets": {},
     "nuid": "9706c1ad-ace0-4270-bcc9-df089dffb2ef",
     "showTitle": false,
     "tableResultSettingsMap": {},
     "title": ""
    }
   },
   "source": [
    "### What is the definition of a given ST_ function?"
   ]
  },
  {
   "cell_type": "code",
   "execution_count": 0,
   "metadata": {
    "application/vnd.databricks.v1+cell": {
     "cellMetadata": {
      "byteLimit": 2048000,
      "implicitDf": true,
      "rowLimit": 10000
     },
     "inputWidgets": {},
     "nuid": "28d66871-ef1b-4bab-8b82-97bed85ae99b",
     "showTitle": false,
     "tableResultSettingsMap": {},
     "title": ""
    }
   },
   "outputs": [],
   "source": [
    "%sql\n",
    "DESCRIBE FUNCTION EXTENDED st_buffer"
   ]
  },
  {
   "cell_type": "markdown",
   "metadata": {
    "application/vnd.databricks.v1+cell": {
     "cellMetadata": {
      "byteLimit": 2048000,
      "rowLimit": 10000
     },
     "inputWidgets": {},
     "nuid": "fccdbf41-a64f-445f-8689-ecff68e82be0",
     "showTitle": false,
     "tableResultSettingsMap": {},
     "title": ""
    }
   },
   "source": [
    "### About the Dataset\n",
    "- Local Government Areas - 2025 - Shapefile\n",
    "- Digital boundaries are available in both the Geocentric Datum of Australia 2020 (GDA2020) and the Geocentric Datum of Australia 1994 (GDA94). GDA2020 was adopted as the new official national datum in 2017 and will be adopted gradually by organisations across Australia.\n",
    "\n"
   ]
  },
  {
   "cell_type": "code",
   "execution_count": 0,
   "metadata": {
    "application/vnd.databricks.v1+cell": {
     "cellMetadata": {
      "byteLimit": 2048000,
      "rowLimit": 10000
     },
     "inputWidgets": {},
     "nuid": "0f4a0466-8a93-450f-894d-1ed03817a339",
     "showTitle": false,
     "tableResultSettingsMap": {},
     "title": ""
    }
   },
   "outputs": [],
   "source": [
    "# update to your preferred location\n",
    "data_path = \"/Volumes/pamela_lim/dev/spatial_sql_101\"\n",
    "os.environ[\"DATA_PATH\"] = data_path"
   ]
  },
  {
   "cell_type": "markdown",
   "metadata": {
    "application/vnd.databricks.v1+cell": {
     "cellMetadata": {
      "byteLimit": 2048000,
      "rowLimit": 10000
     },
     "inputWidgets": {},
     "nuid": "9d3cd9c0-cb35-4fd3-891a-ae820dca0b33",
     "showTitle": false,
     "tableResultSettingsMap": {},
     "title": ""
    }
   },
   "source": [
    "- Convert the GeoDataFrame to a Spark DataFrame\n",
    "- If your geometry column is complex (e.g. Shapely objects), you will need to convert it to WKT or WKB format first since Spark does not natively understand geometry objects."
   ]
  },
  {
   "cell_type": "code",
   "execution_count": 0,
   "metadata": {
    "application/vnd.databricks.v1+cell": {
     "cellMetadata": {
      "byteLimit": 2048000,
      "rowLimit": 10000
     },
     "inputWidgets": {},
     "nuid": "f85b1083-bbbf-4f08-a93c-99d919a4cb07",
     "showTitle": false,
     "tableResultSettingsMap": {},
     "title": ""
    }
   },
   "outputs": [],
   "source": [
    "import geopandas as gpd\n",
    "import pandas as pd\n",
    "\n",
    "gdf_lga = gpd.read_file(f\"{data_path}/LGA_2025_AUST_GDA2020.shp\")\n",
    "\n",
    "# Convert geometry to WKT\n",
    "gdf_lga['geometry'] = gdf_lga['geometry'].to_wkt()\n",
    "\n",
    "# Convert to Spark DataFrame\n",
    "pdf = pd.DataFrame(gdf_lga)\n",
    "sdf = spark.createDataFrame(pdf)\n",
    "\n",
    "# Write to Delta table\n",
    "sdf.write.format(\"delta\").mode(\"overwrite\").saveAsTable(f\"{catalog}.{schema}.lgas\")"
   ]
  },
  {
   "cell_type": "code",
   "execution_count": 0,
   "metadata": {
    "application/vnd.databricks.v1+cell": {
     "cellMetadata": {
      "byteLimit": 2048000,
      "implicitDf": true,
      "rowLimit": 10000
     },
     "inputWidgets": {},
     "nuid": "da5e3430-946a-4231-a563-81707de56031",
     "showTitle": false,
     "tableResultSettingsMap": {},
     "title": ""
    }
   },
   "outputs": [],
   "source": [
    "%sql\n",
    "\n",
    "-- 1.0 Explore LGA data\n",
    "SELECT \n",
    "    lga_code25 as lga_code,\n",
    "    lga_name25 as lga_name,\n",
    "    ste_code21 as state_code,\n",
    "    ste_name21 as state_name,\n",
    "    aus_code21 as aus_code,\n",
    "    aus_name21 as aus_name,\n",
    "    areasqkm as area_sqkm,\n",
    "    ST_NPoints(geometry) as num_vertices\n",
    "FROM lgas\n",
    "LIMIT 10;\n",
    "\n",
    "-- 1.1 ST_Transform: Area Calculation in Different Coordinate Reference System (CRS)\n",
    "SELECT \n",
    "    lga_code25 as lga_code,\n",
    "    lga_name25 as lga_name,\n",
    "    ste_code21 as state_code,\n",
    "    ste_name21 as state_name,\n",
    "    areasqkm AS original_area,\n",
    "    ST_Area(ST_Transform(ST_GeomFromText(geometry, 7844), 3112)) AS area_sqkm_gda2020_zone55,\n",
    "    ST_Area(ST_Transform(ST_GeomFromText(geometry, 7844), 3857)) AS area_sqkm_web_mercator\n",
    "FROM lgas\n",
    "WHERE ste_name21 = 'Victoria'\n",
    "ORDER BY areasqkm DESC\n",
    "LIMIT 10;\n",
    "\n",
    "-- 2.0 ST_Contains: Find all LGAs that contain a specific point (e.g., Sydney CBD coordinates)\n",
    "SELECT \n",
    "    lga_code25 as lga_code,\n",
    "    lga_name25 as lga_name,\n",
    "    ste_name21 as state_name,\n",
    "    areasqkm\n",
    "FROM lgas\n",
    "WHERE ST_Contains(\n",
    "    ST_GeomFromText(geometry), \n",
    "    ST_Point(151.2093, -33.8688) -- Sydney CBD coordinates\n",
    ");\n",
    "\n",
    "-- TODO:\n",
    "-- H3 index for points and polygons\n",
    "-- H3 tessallate (is_called? = true means fully contained)\n"
   ]
  }
 ],
 "metadata": {
  "application/vnd.databricks.v1+notebook": {
   "computePreferences": {
    "hardware": {
     "accelerator": null,
     "gpuPoolId": null,
     "memory": null
    }
   },
   "dashboards": [
    {
     "elements": [],
     "globalVars": {},
     "guid": "",
     "layoutOption": {
      "grid": true,
      "stack": true
     },
     "nuid": "a3755bd7-f116-4210-b7ce-635598f811e4",
     "origId": 6827985205128102,
     "title": "Untitled",
     "version": "DashboardViewV1",
     "width": 1024
    }
   ],
   "environmentMetadata": {
    "base_environment": "",
    "environment_version": "2"
   },
   "inputWidgetPreferences": null,
   "language": "python",
   "notebookMetadata": {
    "mostRecentlyExecutedCommandWithImplicitDF": {
     "commandId": 6827985205127822,
     "dataframes": [
      "_sqldf"
     ]
    },
    "pythonIndentUnit": 2
   },
   "notebookName": "Spatial SQL with Vector Data",
   "widgets": {
    "catalog": {
     "currentValue": "pamela_lim",
     "nuid": "e12e5922-2755-4bad-bf6c-cfeb80736085",
     "typedWidgetInfo": {
      "autoCreated": false,
      "defaultValue": "",
      "label": "",
      "name": "catalog",
      "options": {
       "widgetDisplayType": "Text",
       "validationRegex": null
      },
      "parameterDataType": "String"
     },
     "widgetInfo": {
      "widgetType": "text",
      "defaultValue": "",
      "label": "",
      "name": "catalog",
      "options": {
       "widgetType": "text",
       "autoCreated": false,
       "validationRegex": null
      }
     }
    },
    "schema": {
     "currentValue": "dev",
     "nuid": "9cc11973-6bc6-4fd1-a36a-9ce775df4123",
     "typedWidgetInfo": {
      "autoCreated": false,
      "defaultValue": "",
      "label": "",
      "name": "schema",
      "options": {
       "widgetDisplayType": "Text",
       "validationRegex": null
      },
      "parameterDataType": "String"
     },
     "widgetInfo": {
      "widgetType": "text",
      "defaultValue": "",
      "label": "",
      "name": "schema",
      "options": {
       "widgetType": "text",
       "autoCreated": false,
       "validationRegex": null
      }
     }
    }
   }
  },
  "language_info": {
   "name": "python"
  }
 },
 "nbformat": 4,
 "nbformat_minor": 0
}
