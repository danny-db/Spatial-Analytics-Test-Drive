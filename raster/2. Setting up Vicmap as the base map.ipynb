{
 "cells": [
  {
   "cell_type": "code",
   "execution_count": 0,
   "metadata": {
    "application/vnd.databricks.v1+cell": {
     "cellMetadata": {
      "byteLimit": 2048000,
      "rowLimit": 10000
     },
     "inputWidgets": {},
     "nuid": "2ad8f654-4722-4fd4-8a2a-afb007e2ce21",
     "showTitle": false,
     "tableResultSettingsMap": {},
     "title": ""
    }
   },
   "outputs": [],
   "source": [
    "%pip install folium"
   ]
  },
  {
   "cell_type": "code",
   "execution_count": 0,
   "metadata": {
    "application/vnd.databricks.v1+cell": {
     "cellMetadata": {
      "byteLimit": 2048000,
      "rowLimit": 10000
     },
     "inputWidgets": {},
     "nuid": "46398285-06a0-412f-bfc3-222ad014cf8e",
     "showTitle": true,
     "tableResultSettingsMap": {},
     "title": "Working example for raster tile base map"
    }
   },
   "outputs": [],
   "source": [
    "import folium\n",
    "\n",
    "vicmap_tiles = (\n",
    "    \"https://base.maps.vic.gov.au/service?SERVICE=WMTS&VERSION=1.0.0\"\n",
    "    \"&REQUEST=GetTile\"\n",
    "    \"&LAYER=CARTO_WM_256\"\n",
    "    \"&STYLE=default\"\n",
    "    \"&FORMAT=image/png\"\n",
    "    \"&TILEMATRIXSET=EPSG:3857:256\"\n",
    "    \"&TILEMATRIX={z}\"\n",
    "    \"&TILEROW={y}\"\n",
    "    \"&TILECOL={x}\"\n",
    ")\n",
    "\n",
    "m = folium.Map(location=[-37.81, 144.96], zoom_start=10, tiles=None)\n",
    "folium.TileLayer(\n",
    "    tiles=vicmap_tiles,\n",
    "    attr=\"Vicmap - Department of Transport and Planning, Victoria\",\n",
    "    name=\"Vicmap\",\n",
    "    overlay=False,\n",
    "    control=True,\n",
    "    max_zoom=20,\n",
    "    min_zoom=0\n",
    ").add_to(m)\n",
    "m\n"
   ]
  },
  {
   "cell_type": "code",
   "execution_count": 0,
   "metadata": {
    "application/vnd.databricks.v1+cell": {
     "cellMetadata": {
      "byteLimit": 2048000,
      "rowLimit": 10000
     },
     "inputWidgets": {},
     "nuid": "b3a6ee50-f19b-454c-a98d-3e6cca53c02f",
     "showTitle": true,
     "tableResultSettingsMap": {},
     "title": "Overlay some points on it"
    }
   },
   "outputs": [],
   "source": [
    "# Example: Add several points (e.g., key Victorian cities)\n",
    "points = [\n",
    "    {\"name\": \"Melbourne\", \"lat\": -37.8136, \"lon\": 144.9631},\n",
    "    {\"name\": \"Geelong\", \"lat\": -38.1471, \"lon\": 144.3607},\n",
    "    {\"name\": \"Ballarat\", \"lat\": -37.5622, \"lon\": 143.8503}\n",
    "]\n",
    "\n",
    "for pt in points:\n",
    "    folium.Marker(\n",
    "        location=[pt[\"lat\"], pt[\"lon\"]],\n",
    "        popup=pt[\"name\"],\n",
    "        tooltip=pt[\"name\"],\n",
    "        icon=folium.Icon(color='blue')\n",
    "    ).add_to(m)\n"
   ]
  },
  {
   "cell_type": "code",
   "execution_count": 0,
   "metadata": {
    "application/vnd.databricks.v1+cell": {
     "cellMetadata": {
      "byteLimit": 2048000,
      "rowLimit": 10000
     },
     "inputWidgets": {},
     "nuid": "2136eb9a-ca2f-490f-b32a-ab73d192eb61",
     "showTitle": true,
     "tableResultSettingsMap": {},
     "title": "Drawing a green circle on map"
    }
   },
   "outputs": [],
   "source": [
    "folium.Circle(\n",
    "    location=[-37.8136, 144.9631],\n",
    "    radius=1000,  # meters\n",
    "    color='green',\n",
    "    fill=True,\n",
    "    fill_opacity=0.5,\n",
    "    popup=\"1000m circle\"\n",
    ").add_to(m)\n"
   ]
  },
  {
   "cell_type": "code",
   "execution_count": 0,
   "metadata": {
    "application/vnd.databricks.v1+cell": {
     "cellMetadata": {
      "byteLimit": 2048000,
      "rowLimit": 10000
     },
     "inputWidgets": {},
     "nuid": "dbcaf1ea-5278-4d8e-9e3d-f27cdc080b14",
     "showTitle": true,
     "tableResultSettingsMap": {},
     "title": "Adding Layer Control to the Map"
    }
   },
   "outputs": [],
   "source": [
    "folium.LayerControl().add_to(m)\n",
    "m"
   ]
  },
  {
   "cell_type": "code",
   "execution_count": 0,
   "metadata": {
    "application/vnd.databricks.v1+cell": {
     "cellMetadata": {
      "byteLimit": 2048000,
      "rowLimit": 10000
     },
     "inputWidgets": {},
     "nuid": "46648e6a-2874-44b1-a074-c43fed78b5f5",
     "showTitle": true,
     "tableResultSettingsMap": {},
     "title": "Reading raster base map using WMS"
    }
   },
   "outputs": [],
   "source": [
    "import folium\n",
    "\n",
    "m = folium.Map(location=[-37.81, 144.96], zoom_start=10, tiles=None)\n",
    "\n",
    "folium.raster_layers.WmsTileLayer(\n",
    "    url=\"https://base.maps.vic.gov.au/service?\",\n",
    "    layers=\"CARTO_WM_256\",           # WMS layer name\n",
    "    name=\"Vicmap WMS Carto\",\n",
    "    fmt=\"image/png\",\n",
    "    transparent=True,\n",
    "    version=\"1.1.1\",                 # WMS version supported\n",
    "    attr=\"Vicmap Carto - Department of Transport and Planning, Victoria\",\n",
    "    overlay=True,\n",
    "    control=True\n",
    ").add_to(m)\n",
    "\n",
    "folium.LayerControl().add_to(m)\n",
    "m\n"
   ]
  }
 ],
 "metadata": {
  "application/vnd.databricks.v1+notebook": {
   "computePreferences": {
    "hardware": {
     "accelerator": null,
     "gpuPoolId": null,
     "memory": null
    }
   },
   "dashboards": [],
   "environmentMetadata": {
    "base_environment": "dbe_65bc13ea-276c-4905-a728-9fe2fb1780e2",
    "environment_version": "2"
   },
   "inputWidgetPreferences": null,
   "language": "python",
   "notebookMetadata": {
    "pythonIndentUnit": 2
   },
   "notebookName": "2. Setting up Vicmap as the base map",
   "widgets": {}
  },
  "language_info": {
   "name": "python"
  }
 },
 "nbformat": 4,
 "nbformat_minor": 0
}
