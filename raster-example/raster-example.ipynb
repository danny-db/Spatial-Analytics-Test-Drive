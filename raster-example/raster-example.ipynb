{
 "cells": [
  {
   "cell_type": "markdown",
   "id": "3b0bf2aa",
   "metadata": {},
   "source": [
    "Install Python libraries in a new notebook `.ipynb`.\n",
    "\n",
    "* In this method, we are using a [notebook-scoped Python library](https://learn.microsoft.com/en-us/azure/databricks/libraries/notebooks-python-libraries) which does not persist between sessions.\n",
    "* A cluster library is recommended if you're sharing a set of classic compute across the team."
   ]
  },
  {
   "cell_type": "code",
   "execution_count": null,
   "id": "7e1751b2",
   "metadata": {
    "vscode": {
     "languageId": "plaintext"
    }
   },
   "outputs": [],
   "source": [
    "%pip install geopandas rasterio\n",
    "%restart_python"
   ]
  }
 ],
 "metadata": {
  "language_info": {
   "name": "python"
  }
 },
 "nbformat": 4,
 "nbformat_minor": 5
}
