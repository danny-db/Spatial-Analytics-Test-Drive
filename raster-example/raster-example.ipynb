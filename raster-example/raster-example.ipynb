{
 "cells": [
  {
   "cell_type": "markdown",
   "metadata": {
    "application/vnd.databricks.v1+cell": {
     "cellMetadata": {
      "byteLimit": 2048000,
      "rowLimit": 10000
     },
     "inputWidgets": {},
     "nuid": "8fb6f42b-ead6-494b-b94b-da070d172385",
     "showTitle": false,
     "tableResultSettingsMap": {},
     "title": ""
    }
   },
   "source": [
    "# Raster Example"
   ]
  },
  {
   "cell_type": "markdown",
   "metadata": {
    "application/vnd.databricks.v1+cell": {
     "cellMetadata": {
      "byteLimit": 2048000,
      "rowLimit": 10000
     },
     "inputWidgets": {},
     "nuid": "4f28e466-d64f-4bf7-8863-e1c187a6fa12",
     "showTitle": false,
     "tableResultSettingsMap": {},
     "title": ""
    }
   },
   "source": [
    "## Overview\n",
    "\n",
    "The following raster datasets uses data from the **2022 - MCAS-S data pack (1 km)** pack. It contains Australian spatial layers that cover a broad scope of interests, including:\n",
    "* Biophysical (vegetation, soil, terrain, water, climate,)\n",
    "* Social (household, community and population characteristics)\n",
    "* Economic (land use, agricultural commodity, income, land value, rate of return).\n",
    "\n",
    "The dataset has been prepared by the Australian Bureau of Agricultural and Resource Economics and Sciences (ABARES), Australian Bureau of Statistics (ABS), Australian Electoral Commission (AEC), Australian National University (ANU), Bureau of Meteorology (BOM), Centre for Invasive Animal Solutions, Commonwealth Scientific and Industrial Research Organisation (CSIRO), Department of Agriculture Water and the Environment (now Department of Agriculture, Fisheries and Forestry and Department of Climate Change, Energy, the Environment and Water), Environmental Systems Research Hub, Geoscience Australia, and New South Wales government.\n",
    "\n",
    "Get started by downloading the dataset from the following [link](https://www.agriculture.gov.au/abares/aclump/multi-criteria-analysis/australian-national-map-layers)."
   ]
  },
  {
   "cell_type": "code",
   "execution_count": 0,
   "metadata": {
    "application/vnd.databricks.v1+cell": {
     "cellMetadata": {
      "byteLimit": 2048000,
      "rowLimit": 10000
     },
     "collapsed": true,
     "inputWidgets": {},
     "nuid": "4c062e62-6cbb-41d1-bea0-bdb37aef4468",
     "showTitle": false,
     "tableResultSettingsMap": {},
     "title": ""
    },
    "vscode": {
     "languageId": "plaintext"
    }
   },
   "outputs": [],
   "source": [
    "%pip install geopandas==1.1.1 folium==0.20.0 rasterio==1.4.3\n",
    "%restart_python"
   ]
  },
  {
   "cell_type": "markdown",
   "metadata": {
    "application/vnd.databricks.v1+cell": {
     "cellMetadata": {
      "byteLimit": 2048000,
      "rowLimit": 10000
     },
     "inputWidgets": {},
     "nuid": "9b23f681-e490-4014-b5c6-40de81269f3e",
     "showTitle": false,
     "tableResultSettingsMap": {},
     "title": ""
    }
   },
   "source": [
    "## Install Dependencies\n",
    "\n",
    "Install Python libraries in a new notebook `.ipynb`.\n",
    "* In this method, we are using a [notebook-scoped Python library](https://learn.microsoft.com/en-us/azure/databricks/libraries/notebooks-python-libraries) which does not persist between sessions.\n",
    "* A cluster library is recommended if you're sharing a set of classic compute across the team.\n",
    "\n",
    "## Upload data\n",
    "\n",
    "Manually upload the following datasets to Databricks workspace path and modify `data_path` parameter to get started:\n",
    "* `MCAS-S-Data-Pack2022/Data/Overlay/Cities` -> `cities` folder"
   ]
  },
  {
   "cell_type": "markdown",
   "metadata": {
    "application/vnd.databricks.v1+cell": {
     "cellMetadata": {},
     "inputWidgets": {},
     "nuid": "9f16de26-fbee-4f63-a8d4-f1d3de856cb2",
     "showTitle": false,
     "tableResultSettingsMap": {},
     "title": ""
    }
   },
   "source": [
    "## Load data"
   ]
  },
  {
   "cell_type": "code",
   "execution_count": 0,
   "metadata": {
    "application/vnd.databricks.v1+cell": {
     "cellMetadata": {
      "byteLimit": 2048000,
      "rowLimit": 10000
     },
     "inputWidgets": {},
     "nuid": "09521788-29a2-4f75-8b99-23b6e568a2c2",
     "showTitle": false,
     "tableResultSettingsMap": {},
     "title": ""
    }
   },
   "outputs": [],
   "source": [
    "# Fetch parameters\n",
    "catalog = dbutils.widgets.get(\"catalog\")\n",
    "schema = dbutils.widgets.get(\"schema\")\n",
    "data_path = dbutils.widgets.get(\"data_path\")"
   ]
  },
  {
   "cell_type": "code",
   "execution_count": 0,
   "metadata": {
    "application/vnd.databricks.v1+cell": {
     "cellMetadata": {
      "byteLimit": 2048000,
      "rowLimit": 10000
     },
     "inputWidgets": {},
     "nuid": "57233eed-ff92-45a5-a9d6-f78a4fee1d7c",
     "showTitle": false,
     "tableResultSettingsMap": {},
     "title": ""
    }
   },
   "outputs": [],
   "source": [
    "import pandas as pd\n",
    "import geopandas\n",
    "\n",
    "\n",
    "def write_geodf_to_delta(gdf: geopandas.GeoDataFrame, table_name: str):\n",
    "    \"\"\"\n",
    "    Loads data from a GeoDataFrame to a Delta table\n",
    "    \"\"\"\n",
    "    # Convert GeoDataFrame to Pandas DataFrame\n",
    "    df = pd.DataFrame(gdf)\n",
    "\n",
    "    # Create Spark DataFrame\n",
    "    spark_df = spark.createDataFrame(df)\n",
    "\n",
    "    # Write to Delta table\n",
    "    (\n",
    "      spark_df\n",
    "      .write.mode(\"overwrite\")\n",
    "      .option(\"overwriteSchema\", \"true\")\n",
    "      .saveAsTable(f\"{catalog}.{schema}.{table_name}\")\n",
    "    )\n"
   ]
  },
  {
   "cell_type": "code",
   "execution_count": 0,
   "metadata": {
    "application/vnd.databricks.v1+cell": {
     "cellMetadata": {
      "byteLimit": 2048000,
      "rowLimit": 10000
     },
     "inputWidgets": {},
     "nuid": "c138fe79-a7ec-41d3-be83-4daec763b737",
     "showTitle": false,
     "tableResultSettingsMap": {},
     "title": ""
    }
   },
   "outputs": [],
   "source": [
    "# Load cities data\n",
    "import geopandas as gpd\n",
    "\n",
    "gdf_cities = gpd.read_file(f\"{data_path}/cities/cities.shp\")\n",
    "# Convert geometry to WKT\n",
    "gdf_cities['geometry'] = gdf_cities['geometry'].to_wkt()\n",
    "write_geodf_to_delta(\n",
    "  gdf=gdf_cities,\n",
    "  table_name=\"cities\"\n",
    ")"
   ]
  },
  {
   "cell_type": "code",
   "execution_count": 0,
   "metadata": {
    "application/vnd.databricks.v1+cell": {
     "cellMetadata": {
      "byteLimit": 2048000,
      "rowLimit": 10000
     },
     "inputWidgets": {},
     "nuid": "dcddf2d0-b254-440c-9146-d5130c895bf7",
     "showTitle": false,
     "tableResultSettingsMap": {},
     "title": ""
    }
   },
   "outputs": [],
   "source": [
    "import rasterio\n",
    "import geopandas as gpd\n",
    "from shapely.geometry import box\n",
    "\n",
    "with rasterio.open(f\"{data_path}/roads_major/dist_roads_major.tif\") as src:\n",
    "    bounds = src.bounds\n",
    "    geom = box(*bounds)\n",
    "    gdf_roads_major = gpd.GeoDataFrame({'geometry': [geom]}, crs=src.crs)\n",
    "    \n",
    "    gdf_roads_major['geometry'] = gdf_roads_major['geometry'].to_wkt()\n",
    "\n",
    "    write_geodf_to_delta(\n",
    "      gdf=gdf_roads_major,\n",
    "      table_name=\"roads_major\"\n",
    "    )"
   ]
  },
  {
   "cell_type": "code",
   "execution_count": 0,
   "metadata": {
    "application/vnd.databricks.v1+cell": {
     "cellMetadata": {
      "byteLimit": 2048000,
      "rowLimit": 10000
     },
     "inputWidgets": {},
     "nuid": "f894c934-148f-4e24-8bb8-69e8ff24a929",
     "showTitle": false,
     "tableResultSettingsMap": {},
     "title": ""
    }
   },
   "outputs": [],
   "source": [
    "import folium\n",
    "from shapely import wkt\n",
    "import pandas as pd\n",
    "\n",
    "\n",
    "TILES = 'Cartodb Positron'\n",
    "\n",
    "# Create a base map\n",
    "_map = folium.Map(\n",
    "  location=[-26.853387500000004, 133.27515449999999],\n",
    "  tiles=TILES,\n",
    "  zoom_start=4\n",
    ")\n",
    "\n",
    "# Add geometries to the map with tooltips\n",
    "query = f\"SELECT UCL_NAME11, geometry FROM {catalog}.{schema}.cities LIMIT 10000\"\n",
    "df_geom = spark.sql(query).toPandas()\n",
    "for _, row in df_geom.iterrows():\n",
    "    (city, city_geom) = (row['UCL_NAME11'], row['geometry'])\n",
    "    folium.GeoJson(\n",
    "      data=wkt.loads(city_geom),\n",
    "      tooltip=city\n",
    "    ).add_to(_map)\n",
    "\n",
    "query = f\"SELECT geometry FROM {catalog}.{schema}.roads_major LIMIT 10000\"\n",
    "df_geom = spark.sql(query).toPandas()\n",
    "for _, row in df_geom.iterrows():\n",
    "    folium.GeoJson(\n",
    "      data=wkt.loads(row['geometry']),\n",
    "      # tooltip=city\n",
    "    ).add_to(_map)\n"
   ]
  },
  {
   "cell_type": "code",
   "execution_count": 0,
   "metadata": {
    "application/vnd.databricks.v1+cell": {
     "cellMetadata": {
      "byteLimit": 2048000,
      "rowLimit": 10000
     },
     "inputWidgets": {},
     "nuid": "ffac6828-be3d-422d-a3d5-740a0f247584",
     "showTitle": false,
     "tableResultSettingsMap": {},
     "title": ""
    }
   },
   "outputs": [],
   "source": [
    "# Display map\n",
    "display(_map)"
   ]
  }
 ],
 "metadata": {
  "application/vnd.databricks.v1+notebook": {
   "computePreferences": null,
   "dashboards": [],
   "environmentMetadata": null,
   "inputWidgetPreferences": null,
   "language": "python",
   "notebookMetadata": {
    "pythonIndentUnit": 2
   },
   "notebookName": "raster-example",
   "widgets": {
    "catalog": {
     "currentValue": "users",
     "nuid": "07b8198d-ac2f-4844-b42a-8cc9dc0d0569",
     "typedWidgetInfo": {
      "autoCreated": false,
      "defaultValue": "",
      "label": "Target Catalog",
      "name": "catalog",
      "options": {
       "widgetDisplayType": "Text",
       "validationRegex": null
      },
      "parameterDataType": "String"
     },
     "widgetInfo": {
      "widgetType": "text",
      "defaultValue": "",
      "label": "Target Catalog",
      "name": "catalog",
      "options": {
       "widgetType": "text",
       "autoCreated": false,
       "validationRegex": null
      }
     }
    },
    "data_path": {
     "currentValue": "/Workspace/Users/derek.huang@databricks.com/Spatial-Analytics-Test-Drive/raster-example/MCAS-S-Data-Pack2022",
     "nuid": "3b1fe90b-fd9a-45b2-bc42-a35ce3097422",
     "typedWidgetInfo": {
      "autoCreated": false,
      "defaultValue": "",
      "label": "Data Path",
      "name": "data_path",
      "options": {
       "widgetDisplayType": "Text",
       "validationRegex": null
      },
      "parameterDataType": "String"
     },
     "widgetInfo": {
      "widgetType": "text",
      "defaultValue": "",
      "label": "Data Path",
      "name": "data_path",
      "options": {
       "widgetType": "text",
       "autoCreated": false,
       "validationRegex": null
      }
     }
    },
    "schema": {
     "currentValue": "derek_huang",
     "nuid": "43bc28b5-df1d-40c3-bfcd-acb889a3ca88",
     "typedWidgetInfo": {
      "autoCreated": false,
      "defaultValue": "",
      "label": "Target Schema",
      "name": "schema",
      "options": {
       "widgetDisplayType": "Text",
       "validationRegex": null
      },
      "parameterDataType": "String"
     },
     "widgetInfo": {
      "widgetType": "text",
      "defaultValue": "",
      "label": "Target Schema",
      "name": "schema",
      "options": {
       "widgetType": "text",
       "autoCreated": false,
       "validationRegex": null
      }
     }
    }
   }
  },
  "language_info": {
   "name": "python"
  }
 },
 "nbformat": 4,
 "nbformat_minor": 0
}
