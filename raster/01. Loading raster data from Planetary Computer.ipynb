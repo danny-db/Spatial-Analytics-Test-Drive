{
 "cells": [
  {
   "cell_type": "code",
   "execution_count": 0,
   "metadata": {
    "application/vnd.databricks.v1+cell": {
     "cellMetadata": {
      "byteLimit": 2048000,
      "rowLimit": 10000
     },
     "inputWidgets": {},
     "nuid": "f6cb9920-b0fd-4aba-ab1e-47e5207ef321",
     "showTitle": true,
     "tableResultSettingsMap": {},
     "title": "Install Required Python Packages"
    }
   },
   "outputs": [],
   "source": [
    "%pip install pystac_client planetary_computer rioxarray numpy==1.26.4 geopy\n",
    "%restart_python"
   ]
  },
  {
   "cell_type": "code",
   "execution_count": 0,
   "metadata": {
    "application/vnd.databricks.v1+cell": {
     "cellMetadata": {
      "byteLimit": 2048000,
      "rowLimit": 10000
     },
     "inputWidgets": {},
     "nuid": "386fea8b-31aa-41fd-b8cc-f712991ada9d",
     "showTitle": true,
     "tableResultSettingsMap": {},
     "title": "Geocode Location and Retrieve Bounding Box"
    }
   },
   "outputs": [],
   "source": [
    "import pystac_client\n",
    "from geopy.geocoders import Nominatim\n",
    "\n",
    "# Set up the geocoder\n",
    "geolocator = Nominatim(user_agent=\"my_stac_project\")\n",
    "\n",
    "# Geocode place to get raw data\n",
    "location = geolocator.geocode(\"Otway Forest, Victoria, Australia\")\n",
    "\n",
    "if location:\n",
    "    location_raw = location.raw\n",
    "\n",
    "    # Get bounding box (min_lat, max_lat, min_lon, max_lon)\n",
    "    bbox = [\n",
    "        float(location_raw[\"boundingbox\"][2]),  # min longitude (west)\n",
    "        float(location_raw[\"boundingbox\"][0]),  # min latitude (south)\n",
    "        float(location_raw[\"boundingbox\"][3]),  # max longitude (east)\n",
    "        float(location_raw[\"boundingbox\"][1])   # max latitude (north)\n",
    "    ]\n",
    "    print(\"Bounding box:\", bbox)\n",
    "else:\n",
    "    print(\"Location not found.\")"
   ]
  },
  {
   "cell_type": "code",
   "execution_count": 0,
   "metadata": {
    "application/vnd.databricks.v1+cell": {
     "cellMetadata": {
      "byteLimit": 2048000,
      "rowLimit": 10000
     },
     "inputWidgets": {},
     "nuid": "03915c7d-79a0-4bbb-9184-166907b0b19e",
     "showTitle": true,
     "tableResultSettingsMap": {},
     "title": "Download Sentinel-2 Bands and Save as GeoTIFFs"
    }
   },
   "outputs": [],
   "source": [
    "import pystac_client\n",
    "import planetary_computer\n",
    "import rioxarray\n",
    "\n",
    "# Connect to Planetary Computer STAC API\n",
    "catalog = pystac_client.Client.open(\n",
    "    \"https://planetarycomputer.microsoft.com/api/stac/v1\",\n",
    "    modifier=planetary_computer.sign_inplace\n",
    ")\n",
    "\n",
    "# Search for data (example: Sentinel-2)\n",
    "search = catalog.search(\n",
    "    collections=[\"sentinel-2-l2a\"],\n",
    "    bbox=bbox,\n",
    "    datetime=\"2023-01-01/2023-01-31\",\n",
    "    query={\"eo:cloud_cover\": {\"lt\": 10}}, # Only images with <10% cloud,\n",
    "    limit=10\n",
    ")\n",
    "\n",
    "items = list(search.get_items())\n",
    "item = items[0]\n",
    "\n",
    "# Sign the item for authentication\n",
    "signed_item = planetary_computer.sign(item)\n",
    "\n",
    "# Download specific assets as GeoTIFFs\n",
    "b04_href = signed_item.assets[\"B04\"].href  # Red band\n",
    "b03_href = signed_item.assets[\"B03\"].href  # Green band\n",
    "b02_href = signed_item.assets[\"B02\"].href  # Blue band\n",
    "\n",
    "rioxarray.open_rasterio(b04_href).rio.to_raster(\"sentinel2_red.tif\")\n",
    "rioxarray.open_rasterio(b03_href).rio.to_raster(\"sentinel2_green.tif\")\n",
    "rioxarray.open_rasterio(b02_href).rio.to_raster(\"sentinel2_blue.tif\")"
   ]
  },
  {
   "cell_type": "code",
   "execution_count": 0,
   "metadata": {
    "application/vnd.databricks.v1+cell": {
     "cellMetadata": {
      "byteLimit": 2048000,
      "rowLimit": 10000
     },
     "inputWidgets": {},
     "nuid": "bda3897c-d429-4ca4-bc24-820cb64712b7",
     "showTitle": true,
     "tableResultSettingsMap": {},
     "title": "Display Sentinel-2 RGB Bands Using Matplotlib"
    }
   },
   "outputs": [],
   "source": [
    "import matplotlib.pyplot as plt\n",
    "import rasterio\n",
    "\n",
    "with rasterio.open('/Workspace/Users/danny.wong@databricks.com/sentinel2_red.tif') as src_red:\n",
    "    red = src_red.read(1)\n",
    "with rasterio.open('/Workspace/Users/danny.wong@databricks.com/sentinel2_green.tif') as src_green:\n",
    "    green = src_green.read(1)\n",
    "with rasterio.open('/Workspace/Users/danny.wong@databricks.com/sentinel2_blue.tif') as src_blue:\n",
    "    blue = src_blue.read(1)\n",
    "\n",
    "plt.imshow(red)\n",
    "plt.axis('off')\n",
    "plt.show()\n",
    "\n",
    "plt.imshow(green)\n",
    "plt.axis('off')\n",
    "plt.show()\n",
    "\n",
    "plt.imshow(blue)\n",
    "plt.axis('off')\n",
    "plt.show()"
   ]
  },
  {
   "cell_type": "code",
   "execution_count": 0,
   "metadata": {
    "application/vnd.databricks.v1+cell": {
     "cellMetadata": {
      "byteLimit": 2048000,
      "rowLimit": 10000
     },
     "inputWidgets": {},
     "nuid": "45d3f31e-5abc-498b-bb92-0330133af578",
     "showTitle": true,
     "tableResultSettingsMap": {},
     "title": "Visualize Sentinel-2 RGB and Calculate NDVI"
    }
   },
   "outputs": [],
   "source": [
    "import rioxarray\n",
    "import numpy as np\n",
    "import matplotlib.pyplot as plt\n",
    "\n",
    "# Load TIFF files\n",
    "red = rioxarray.open_rasterio(\"sentinel2_red.tif\").squeeze()\n",
    "green = rioxarray.open_rasterio(\"sentinel2_green.tif\").squeeze()\n",
    "blue = rioxarray.open_rasterio(\"sentinel2_blue.tif\").squeeze()\n",
    "\n",
    "# Plot true color RGB composite (basic visualization)\n",
    "rgb_stack = np.stack([red.values, green.values, blue.values], axis=-1)\n",
    "rgb_norm = (rgb_stack - rgb_stack.min()) / (rgb_stack.max() - rgb_stack.min())  # Normalize for display\n",
    "\n",
    "plt.figure(figsize=(8, 8))\n",
    "plt.imshow(rgb_norm)\n",
    "plt.title(\"Sentinel-2 RGB True Color Composite\")\n",
    "plt.axis('off')\n",
    "plt.show()\n",
    "\n",
    "# Load NIR band (B08)\n",
    "# After signing and downloading B08 as above:\n",
    "nir = rioxarray.open_rasterio(signed_item.assets[\"B08\"].href).squeeze()\n",
    "\n",
    "# NDVI Calculation: (NIR - Red) / (NIR + Red)\n",
    "ndvi = (nir - red) / (nir + red)\n",
    "ndvi = ndvi.where((nir + red) != 0)\n",
    "\n",
    "plt.figure(figsize=(8, 8))\n",
    "plt.imshow(ndvi, cmap='RdYlGn')\n",
    "plt.colorbar(label=\"NDVI\")\n",
    "plt.title(\"NDVI\")\n",
    "plt.axis('off')\n",
    "plt.show()\n"
   ]
  },
  {
   "cell_type": "code",
   "execution_count": 0,
   "metadata": {
    "application/vnd.databricks.v1+cell": {
     "cellMetadata": {
      "byteLimit": 2048000,
      "rowLimit": 10000
     },
     "inputWidgets": {},
     "nuid": "1265a4b3-811c-4a8d-ae15-6d11bcff5e32",
     "showTitle": true,
     "tableResultSettingsMap": {},
     "title": "Load Sentinel-2 Red, Green, and Blue Bands"
    }
   },
   "outputs": [],
   "source": [
    "import rioxarray\n",
    "import pandas as pd\n",
    "red = rioxarray.open_rasterio(\"sentinel2_red.tif\").squeeze()\n",
    "green = rioxarray.open_rasterio(\"sentinel2_green.tif\").squeeze()\n",
    "blue = rioxarray.open_rasterio(\"sentinel2_blue.tif\").squeeze()"
   ]
  },
  {
   "cell_type": "code",
   "execution_count": 0,
   "metadata": {
    "application/vnd.databricks.v1+cell": {
     "cellMetadata": {
      "byteLimit": 2048000,
      "rowLimit": 10000
     },
     "inputWidgets": {},
     "nuid": "b0ff8411-95b3-4b5f-a91a-7ce2e4d72e04",
     "showTitle": true,
     "tableResultSettingsMap": {},
     "title": "Convert Sentinel-2 Bands to pandas dataframe"
    }
   },
   "outputs": [],
   "source": [
    "# Convert raster bands to pandas DataFrames (index: y, x)\n",
    "df_red = red.to_dataframe(name=\"red\").reset_index()    # columns: y, x, red\n",
    "df_green = green.to_dataframe(name=\"green\").reset_index()\n",
    "df_blue = blue.to_dataframe(name=\"blue\").reset_index()"
   ]
  },
  {
   "cell_type": "code",
   "execution_count": 0,
   "metadata": {
    "application/vnd.databricks.v1+cell": {
     "cellMetadata": {
      "byteLimit": 2048000,
      "rowLimit": 10000
     },
     "inputWidgets": {},
     "nuid": "6a3bd7ac-6725-4c5d-a3da-9244ead393d8",
     "showTitle": true,
     "tableResultSettingsMap": {},
     "title": "Merge Red, Green, and Blue Dataframes"
    }
   },
   "outputs": [],
   "source": [
    "df = df_red.merge(df_green, on=[\"x\", \"y\"]).merge(df_blue, on=[\"x\", \"y\"])\n",
    "print(df.head())"
   ]
  },
  {
   "cell_type": "code",
   "execution_count": 0,
   "metadata": {
    "application/vnd.databricks.v1+cell": {
     "cellMetadata": {
      "byteLimit": 2048000,
      "rowLimit": 10000
     },
     "inputWidgets": {},
     "nuid": "dfca137e-1ea0-4a93-9868-cfb73b4b0313",
     "showTitle": true,
     "tableResultSettingsMap": {},
     "title": "Save DataFrame as Parquet File"
    }
   },
   "outputs": [],
   "source": [
    "df.to_parquet(\"/Volumes/danny_catalog/demo_schema/demo_vol/raster_data.parquet\")"
   ]
  },
  {
   "cell_type": "code",
   "execution_count": 0,
   "metadata": {
    "application/vnd.databricks.v1+cell": {
     "cellMetadata": {
      "byteLimit": 2048000,
      "rowLimit": 10000
     },
     "inputWidgets": {},
     "nuid": "2147f89f-a978-470e-9e0b-d5a124ccd6de",
     "showTitle": true,
     "tableResultSettingsMap": {},
     "title": "Read Raster Data into Spark DataFrame"
    }
   },
   "outputs": [],
   "source": [
    "spark_df = spark.read.parquet(\"/Volumes/danny_catalog/demo_schema/demo_vol/raster_data.parquet\")"
   ]
  },
  {
   "cell_type": "code",
   "execution_count": 0,
   "metadata": {
    "application/vnd.databricks.v1+cell": {
     "cellMetadata": {
      "byteLimit": 2048000,
      "rowLimit": 10000
     },
     "inputWidgets": {},
     "nuid": "2ff49eeb-1c40-4946-9604-37b2442bb717",
     "showTitle": true,
     "tableResultSettingsMap": {},
     "title": "Display Spark DataFrame"
    }
   },
   "outputs": [],
   "source": [
    "display(spark_df)"
   ]
  },
  {
   "cell_type": "code",
   "execution_count": 0,
   "metadata": {
    "application/vnd.databricks.v1+cell": {
     "cellMetadata": {
      "byteLimit": 2048000,
      "rowLimit": 10000
     },
     "inputWidgets": {},
     "nuid": "22a9d77a-0c76-4282-b9cd-c9a3bf900c01",
     "showTitle": true,
     "tableResultSettingsMap": {},
     "title": "Save Spark DataFrame as Table"
    }
   },
   "outputs": [],
   "source": [
    "spark_df.write.saveAsTable(\"danny_catalog.demo_schema.raster_data\")"
   ]
  },
  {
   "cell_type": "code",
   "execution_count": 0,
   "metadata": {
    "application/vnd.databricks.v1+cell": {
     "cellMetadata": {
      "byteLimit": 2048000,
      "implicitDf": true,
      "rowLimit": 10000
     },
     "inputWidgets": {},
     "nuid": "741793a6-a8d6-42b1-859e-e188e15be2dd",
     "showTitle": true,
     "tableResultSettingsMap": {},
     "title": "Retrieve Raster Data from Demo Schema"
    }
   },
   "outputs": [
    {
     "output_type": "display_data",
     "data": {
      "text/plain": [
       "Databricks data profile. Run in Databricks to view."
      ]
     },
     "metadata": {
      "application/vnd.databricks.v1.subcommand+json": {
       "baseErrorDetails": null,
       "bindings": {},
       "collapsed": false,
       "command": "%python\nif hasattr(dbutils, \"data\") and hasattr(dbutils.data, \"summarize\"):\n  dbutils.data.summarize(spark.sql(r\"\"\"SELECT * FROM danny_catalog.demo_schema.raster_data \"\"\"))\nelse:\n  print(\"This DBR version does not support data profiles.\")\n",
       "commandTitle": "Data Profile 1",
       "commandType": "auto",
       "commandVersion": 0,
       "commentThread": [],
       "commentsVisible": false,
       "contentSha256Hex": null,
       "customPlotOptions": {},
       "datasetPreviewNameToCmdIdMap": {},
       "diffDeletes": [],
       "diffInserts": [],
       "displayType": "table",
       "error": null,
       "errorDetails": null,
       "errorSummary": null,
       "errorTraceType": null,
       "finishTime": 1754735717154,
       "globalVars": {},
       "guid": "",
       "height": "auto",
       "hideCommandCode": false,
       "hideCommandResult": false,
       "iPythonMetadata": null,
       "inputWidgets": {},
       "isLockedInExamMode": false,
       "latestUser": "a user",
       "latestUserId": null,
       "listResultMetadata": [
        [
         "mimeBundle",
         null
        ]
       ],
       "metadata": {
        "byteLimit": 2048000,
        "rowLimit": 10000
       },
       "nuid": "3fc38a0d-af1f-48ea-a38e-26969f9937a9",
       "origId": 0,
       "parentHierarchy": [],
       "pivotAggregation": null,
       "pivotColumns": null,
       "position": 9.71875,
       "resultDbfsErrorMessage": null,
       "resultDbfsStatus": "INLINED_IN_TREE",
       "results": null,
       "showCommandTitle": false,
       "startTime": 1754735636768,
       "state": "input",
       "streamStates": {},
       "subcommandOptions": null,
       "submitTime": 1754735636642,
       "subtype": "tableResultSubCmd.dataSummary",
       "tableResultIndex": 0,
       "tableResultSettingsMap": {},
       "useConsistentColors": false,
       "version": "CommandV1",
       "width": "auto",
       "workflows": null,
       "xColumns": null,
       "yColumns": null
      }
     },
     "output_type": "display_data"
    }
   ],
   "source": [
    "%sql\n",
    "SELECT * FROM danny_catalog.demo_schema.raster_data"
   ]
  }
 ],
 "metadata": {
  "application/vnd.databricks.v1+notebook": {
   "computePreferences": {
    "hardware": {
     "accelerator": null,
     "gpuPoolId": null,
     "memory": "HIGH"
    }
   },
   "dashboards": [],
   "environmentMetadata": {
    "base_environment": "dbe_f14fbde8-5353-4144-89be-f0a3e93fffc9",
    "environment_version": "2"
   },
   "inputWidgetPreferences": null,
   "language": "python",
   "notebookMetadata": {
    "mostRecentlyExecutedCommandWithImplicitDF": {
     "commandId": 5816783787063426,
     "dataframes": [
      "_sqldf"
     ]
    },
    "pythonIndentUnit": 2
   },
   "notebookName": "01. Loading raster data from Planetary Computer",
   "widgets": {}
  },
  "language_info": {
   "name": "python"
  }
 },
 "nbformat": 4,
 "nbformat_minor": 0
}
