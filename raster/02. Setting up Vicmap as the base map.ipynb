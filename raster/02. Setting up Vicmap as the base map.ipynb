{
 "cells": [
  {
   "cell_type": "code",
   "execution_count": 0,
   "metadata": {
    "application/vnd.databricks.v1+cell": {
     "cellMetadata": {
      "byteLimit": 2048000,
      "rowLimit": 10000
     },
     "inputWidgets": {},
     "nuid": "2ad8f654-4722-4fd4-8a2a-afb007e2ce21",
     "showTitle": false,
     "tableResultSettingsMap": {},
     "title": ""
    }
   },
   "outputs": [],
   "source": [
    "%pip install folium\n",
    "%restart_python"
   ]
  },
  {
   "cell_type": "markdown",
   "metadata": {
    "application/vnd.databricks.v1+cell": {
     "cellMetadata": {},
     "inputWidgets": {},
     "nuid": "c174f50f-2204-4641-b23e-bee1c12e2810",
     "showTitle": false,
     "tableResultSettingsMap": {},
     "title": ""
    }
   },
   "source": [
    "## WMTS\n",
    "https://base.maps.vic.gov.au/service?service=wmts&request=getCapabilities"
   ]
  },
  {
   "cell_type": "code",
   "execution_count": 0,
   "metadata": {
    "application/vnd.databricks.v1+cell": {
     "cellMetadata": {
      "byteLimit": 2048000,
      "rowLimit": 10000
     },
     "inputWidgets": {},
     "nuid": "46398285-06a0-412f-bfc3-222ad014cf8e",
     "showTitle": true,
     "tableResultSettingsMap": {},
     "title": "Working example for raster tile base map"
    }
   },
   "outputs": [],
   "source": [
    "import folium\n",
    "\n",
    "vicmap_tiles = (\n",
    "    \"https://base.maps.vic.gov.au/service?SERVICE=WMTS&VERSION=1.0.0\"\n",
    "    \"&REQUEST=GetTile\"\n",
    "    \"&LAYER=CARTO_WM_256\"\n",
    "    \"&STYLE=default\"\n",
    "    \"&FORMAT=image/png\"\n",
    "    \"&TILEMATRIXSET=EPSG:3857:256\"\n",
    "    \"&TILEMATRIX={z}\"\n",
    "    \"&TILEROW={y}\"\n",
    "    \"&TILECOL={x}\"\n",
    ")\n",
    "\n",
    "m = folium.Map(location=[-37.81, 144.96], zoom_start=10, tiles=None)\n",
    "folium.TileLayer(\n",
    "    tiles=vicmap_tiles,\n",
    "    attr=\"Vicmap - Department of Transport and Planning, Victoria\",\n",
    "    name=\"Vicmap\",\n",
    "    overlay=False,\n",
    "    control=True,\n",
    "    max_zoom=20,\n",
    "    min_zoom=0\n",
    ").add_to(m)\n",
    "m\n"
   ]
  },
  {
   "cell_type": "code",
   "execution_count": 0,
   "metadata": {
    "application/vnd.databricks.v1+cell": {
     "cellMetadata": {
      "byteLimit": 2048000,
      "rowLimit": 10000
     },
     "inputWidgets": {},
     "nuid": "b3a6ee50-f19b-454c-a98d-3e6cca53c02f",
     "showTitle": true,
     "tableResultSettingsMap": {},
     "title": "Overlay some points on it"
    }
   },
   "outputs": [],
   "source": [
    "# Example: Add several points (e.g., key Victorian cities)\n",
    "points = [\n",
    "    {\"name\": \"Melbourne\", \"lat\": -37.8136, \"lon\": 144.9631},\n",
    "    {\"name\": \"Geelong\", \"lat\": -38.1471, \"lon\": 144.3607},\n",
    "    {\"name\": \"Ballarat\", \"lat\": -37.5622, \"lon\": 143.8503}\n",
    "]\n",
    "\n",
    "for pt in points:\n",
    "    folium.Marker(\n",
    "        location=[pt[\"lat\"], pt[\"lon\"]],\n",
    "        popup=pt[\"name\"],\n",
    "        tooltip=pt[\"name\"],\n",
    "        icon=folium.Icon(color='blue')\n",
    "    ).add_to(m)\n"
   ]
  },
  {
   "cell_type": "code",
   "execution_count": 0,
   "metadata": {
    "application/vnd.databricks.v1+cell": {
     "cellMetadata": {
      "byteLimit": 2048000,
      "rowLimit": 10000
     },
     "inputWidgets": {},
     "nuid": "2136eb9a-ca2f-490f-b32a-ab73d192eb61",
     "showTitle": true,
     "tableResultSettingsMap": {},
     "title": "Drawing a green circle on map"
    }
   },
   "outputs": [],
   "source": [
    "folium.Circle(\n",
    "    location=[-37.8136, 144.9631],\n",
    "    radius=1000,  # meters\n",
    "    color='green',\n",
    "    fill=True,\n",
    "    fill_opacity=0.5,\n",
    "    popup=\"1000m circle\"\n",
    ").add_to(m)\n"
   ]
  },
  {
   "cell_type": "code",
   "execution_count": 0,
   "metadata": {
    "application/vnd.databricks.v1+cell": {
     "cellMetadata": {
      "byteLimit": 2048000,
      "rowLimit": 10000
     },
     "inputWidgets": {},
     "nuid": "dbcaf1ea-5278-4d8e-9e3d-f27cdc080b14",
     "showTitle": true,
     "tableResultSettingsMap": {},
     "title": "Adding Layer Control to the Map"
    }
   },
   "outputs": [],
   "source": [
    "folium.LayerControl().add_to(m)\n",
    "m"
   ]
  },
  {
   "cell_type": "markdown",
   "metadata": {
    "application/vnd.databricks.v1+cell": {
     "cellMetadata": {},
     "inputWidgets": {},
     "nuid": "bfa94625-2d07-4c5c-a052-116c86a18909",
     "showTitle": false,
     "tableResultSettingsMap": {},
     "title": ""
    }
   },
   "source": [
    "## WMS\n",
    "https://base.maps.vic.gov.au/service?service=wms&request=getCapabilities"
   ]
  },
  {
   "cell_type": "code",
   "execution_count": 0,
   "metadata": {
    "application/vnd.databricks.v1+cell": {
     "cellMetadata": {
      "byteLimit": 2048000,
      "rowLimit": 10000
     },
     "inputWidgets": {},
     "nuid": "46648e6a-2874-44b1-a074-c43fed78b5f5",
     "showTitle": true,
     "tableResultSettingsMap": {},
     "title": "Reading raster base map using WMS"
    }
   },
   "outputs": [],
   "source": [
    "import folium\n",
    "\n",
    "m = folium.Map(location=[-37.81, 144.96], zoom_start=10, tiles=None)\n",
    "\n",
    "folium.raster_layers.WmsTileLayer(\n",
    "    url=\"https://base.maps.vic.gov.au/service?\",\n",
    "    layers=\"CARTO_WM_256\",           # WMS layer name\n",
    "    name=\"Vicmap WMS Carto\",\n",
    "    fmt=\"image/png\",\n",
    "    transparent=True,\n",
    "    version=\"1.1.1\",                 # WMS version supported\n",
    "    attr=\"Vicmap Carto - Department of Transport and Planning, Victoria\",\n",
    "    overlay=True,\n",
    "    control=True\n",
    ").add_to(m)\n",
    "\n",
    "folium.LayerControl().add_to(m)\n",
    "m\n"
   ]
  },
  {
   "cell_type": "markdown",
   "metadata": {
    "application/vnd.databricks.v1+cell": {
     "cellMetadata": {},
     "inputWidgets": {},
     "nuid": "465b13f5-1a3c-43bb-9275-2cedb4433780",
     "showTitle": false,
     "tableResultSettingsMap": {},
     "title": ""
    }
   },
   "source": [
    "## Overlay flood data on top of the base map\n",
    "\n",
    "Flood map WMS - https://opendata.maps.vic.gov.au/geoserver/wms?service=wms&request=getmap&format=image%2Fpng8&transparent=true&layers=open-data-platform:vic_flood_history_public&width=512&height=512&crs=epsg%3A3857&bbox=16114148.554967716%2C-4456584.4971389165%2C16119040.524777967%2C-4451692.527328665"
   ]
  },
  {
   "cell_type": "code",
   "execution_count": 0,
   "metadata": {
    "application/vnd.databricks.v1+cell": {
     "cellMetadata": {
      "byteLimit": 2048000,
      "rowLimit": 10000
     },
     "inputWidgets": {},
     "nuid": "43e1642a-3606-4c7b-893a-45231b45fb23",
     "showTitle": false,
     "tableResultSettingsMap": {},
     "title": ""
    }
   },
   "outputs": [],
   "source": [
    "import folium\n",
    "\n",
    "m = folium.Map(location=[-37.81, 144.96], zoom_start=10, tiles=None)\n",
    "\n",
    "folium.raster_layers.WmsTileLayer(\n",
    "    url=\"https://base.maps.vic.gov.au/service?\",\n",
    "    layers=\"CARTO_WM_256\",           # WMS layer name\n",
    "    name=\"Vicmap WMS Carto\",\n",
    "    fmt=\"image/png\",\n",
    "    transparent=True,\n",
    "    version=\"1.1.1\",                 # WMS version supported\n",
    "    attr=\"Vicmap Carto - Department of Transport and Planning, Victoria\",\n",
    "    overlay=True,\n",
    "    control=True\n",
    ").add_to(m)\n",
    "\n",
    "folium.raster_layers.WmsTileLayer(\n",
    "    url=\"https://opendata.maps.vic.gov.au/geoserver/wms?\",\n",
    "    layers=\"open-data-platform:vic_flood_history_public\",           # WMS layer name\n",
    "    name=\"Flood map\",\n",
    "    fmt=\"image/png\",\n",
    "    transparent=True,\n",
    "    version=\"1.1.1\",                 # WMS version supported\n",
    "    attr=\"Vicmap - Department of Transport and Planning, Victoria\",\n",
    "    overlay=True,\n",
    "    control=True\n",
    ").add_to(m)\n",
    "\n",
    "folium.LayerControl().add_to(m)\n",
    "m"
   ]
  }
 ],
 "metadata": {
  "application/vnd.databricks.v1+notebook": {
   "computePreferences": {
    "hardware": {
     "accelerator": null,
     "gpuPoolId": null,
     "memory": null
    }
   },
   "dashboards": [],
   "environmentMetadata": {
    "base_environment": "dbe_65bc13ea-276c-4905-a728-9fe2fb1780e2",
    "environment_version": "2"
   },
   "inputWidgetPreferences": null,
   "language": "python",
   "notebookMetadata": {
    "pythonIndentUnit": 2
   },
   "notebookName": "02. Setting up Vicmap as the base map",
   "widgets": {}
  },
  "language_info": {
   "name": "python"
  }
 },
 "nbformat": 4,
 "nbformat_minor": 0
}
