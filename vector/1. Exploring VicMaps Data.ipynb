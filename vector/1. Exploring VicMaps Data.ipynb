{
 "cells": [
  {
   "cell_type": "markdown",
   "metadata": {
    "application/vnd.databricks.v1+cell": {
     "cellMetadata": {},
     "inputWidgets": {},
     "nuid": "05b3ff01-1cf4-4365-8738-dafbcb042557",
     "showTitle": false,
     "tableResultSettingsMap": {},
     "title": ""
    }
   },
   "source": [
    "## Environment setup\n",
    "\n",
    "Make sure you are using DBR 17.1+"
   ]
  },
  {
   "cell_type": "code",
   "execution_count": 0,
   "metadata": {
    "application/vnd.databricks.v1+cell": {
     "cellMetadata": {
      "byteLimit": 2048000,
      "rowLimit": 10000
     },
     "inputWidgets": {},
     "nuid": "ad3f5575-95bb-41f2-8d6c-eff83ccb363d",
     "showTitle": true,
     "tableResultSettingsMap": {},
     "title": "Installing libraries"
    }
   },
   "outputs": [],
   "source": [
    "%pip install geopandas folium gdown h3\n",
    "%restart_python"
   ]
  },
  {
   "cell_type": "code",
   "execution_count": 0,
   "metadata": {
    "application/vnd.databricks.v1+cell": {
     "cellMetadata": {
      "byteLimit": 2048000,
      "rowLimit": 10000
     },
     "inputWidgets": {},
     "nuid": "243753b0-d548-4549-b6d3-29ada3811fcb",
     "showTitle": true,
     "tableResultSettingsMap": {},
     "title": "Set Catalog, Schema, and Volume Widgets"
    }
   },
   "outputs": [],
   "source": [
    "dbutils.widgets.text(\"catalog\", \"\", \"Catalog\")\n",
    "catalog = dbutils.widgets.get(\"catalog\")\n",
    "\n",
    "dbutils.widgets.text(\"schema\", \"\", \"Schema\")\n",
    "schema = dbutils.widgets.get(\"schema\")\n",
    "\n",
    "dbutils.widgets.text(\"volume\", \"\", \"Volume\")\n",
    "volume = dbutils.widgets.get(\"volume\")"
   ]
  },
  {
   "cell_type": "code",
   "execution_count": 0,
   "metadata": {
    "application/vnd.databricks.v1+cell": {
     "cellMetadata": {
      "byteLimit": 2048000,
      "rowLimit": 10000
     },
     "inputWidgets": {},
     "nuid": "b82c7984-7530-4331-af75-26c0aa499ca9",
     "showTitle": true,
     "tableResultSettingsMap": {},
     "title": "Download file from Google Drive using gdown"
    }
   },
   "outputs": [],
   "source": [
    "import gdown\n",
    "\n",
    "url = 'https://drive.google.com/file/d/1WKK3v_QYSdv6nXld5mqHWN6xwNV33TM8/view?usp=drive_link'\n",
    "uc_volume_path = f'/Volumes/{catalog}/{schema}/{volume}/Vicmap_Sample.zip'\n",
    "\n",
    "gdown.download(url, uc_volume_path, quiet=False, fuzzy=True)"
   ]
  },
  {
   "cell_type": "code",
   "execution_count": 0,
   "metadata": {
    "application/vnd.databricks.v1+cell": {
     "cellMetadata": {
      "byteLimit": 2048000,
      "rowLimit": 10000
     },
     "inputWidgets": {},
     "nuid": "22f26b1f-c5e5-4755-9cdd-b02a2622598c",
     "showTitle": true,
     "tableResultSettingsMap": {},
     "title": "Extracting Vicmap Sample from Zip File"
    }
   },
   "outputs": [],
   "source": [
    "import zipfile\n",
    "\n",
    "extract_path = f'/Volumes/{catalog}/{schema}/{volume}'\n",
    "\n",
    "with zipfile.ZipFile(uc_volume_path, 'r') as zip_ref:\n",
    "    zip_ref.extractall(extract_path)"
   ]
  },
  {
   "cell_type": "markdown",
   "metadata": {
    "application/vnd.databricks.v1+cell": {
     "cellMetadata": {},
     "inputWidgets": {},
     "nuid": "d3ee846f-ec95-4ebd-8fe7-218aae5b0ea9",
     "showTitle": false,
     "tableResultSettingsMap": {},
     "title": ""
    }
   },
   "source": [
    "## Exploring Vicmap Transport data"
   ]
  },
  {
   "cell_type": "code",
   "execution_count": 0,
   "metadata": {
    "application/vnd.databricks.v1+cell": {
     "cellMetadata": {
      "byteLimit": 2048000,
      "rowLimit": 10000
     },
     "inputWidgets": {},
     "nuid": "da297173-3633-483c-9f11-2fe4168cd0f9",
     "showTitle": true,
     "tableResultSettingsMap": {},
     "title": "Create Bronze Table for Road Infrastructure"
    }
   },
   "outputs": [
    {
     "output_type": "display_data",
     "data": {
      "text/plain": [
       "Databricks data profile. Run in Databricks to view."
      ]
     },
     "metadata": {
      "application/vnd.databricks.v1.subcommand+json": {
       "baseErrorDetails": null,
       "bindings": {},
       "collapsed": false,
       "command": "%python\nif hasattr(dbutils, \"data\") and hasattr(dbutils.data, \"summarize\"):\n  # setup\n  __data_summary_display_orig = display\n  __data_summary_dfs = []\n  def __data_summary_display_new(df):\n    # add only when result is going to be table type\n    __data_summary_df_modules = [\"pandas.core.frame\", \"databricks.koalas.frame\", \"pyspark.sql.dataframe\", \"pyspark.pandas.frame\", \"pyspark.sql.connect.dataframe\", \"pyspark.sql.classic.dataframe\"]\n    if (type(df).__module__ in __data_summary_df_modules and type(df).__name__ == 'DataFrame') or isinstance(df, list):\n      __data_summary_dfs.append(df)\n  display = __data_summary_display_new\n\n  def __data_summary_user_code_fn():\n    import base64\n    exec(base64.standard_b64decode(\"aW1wb3J0IGdlb3BhbmRhcyBhcyBncGQKZnJvbSBweXNwYXJrLnNxbCBpbXBvcnQgU3BhcmtTZXNzaW9uCmZyb20gcHlzcGFyay5zcWwuZnVuY3Rpb25zIGltcG9ydCBjb2wKZnJvbSBzaGFwZWx5IGltcG9ydCB3a3QKaW1wb3J0IHBhbmRhcyBhcyBwZAoKZ2RmX3RyYW5zcG9ydCA9IGdwZC5yZWFkX2ZpbGUoIi9Wb2x1bWVzL2Rhbm55X2NhdGFsb2cvdmljbWFwX3NjaGVtYS9zb3VyY2VzL1ZpY21hcF90cmFuc3BvcnQvZ2RhMjAyMF92aWNncmlkL2VzcmlzaGFwZS93aG9sZV9vZl9kYXRhc2V0L3ZpY3RvcmlhL1ZNVFJBTlMvVFJfUk9BRF9JTkZSQVNUUlVDVFVSRS5zaHAiKQoKIyBDb252ZXJ0IGdlb21ldHJ5IHRvIFdLVApnZGZfdHJhbnNwb3J0WydnZW9tZXRyeSddID0gZ2RmX3RyYW5zcG9ydC5nZW9tZXRyeS50b193a3QoKSAgCgojIENvbnZlcnQgR2VvRGF0YUZyYW1lIHRvIFBhbmRhcyBEYXRhRnJhbWUKcGRmX3RyYW5zcG9ydCA9IHBkLkRhdGFGcmFtZShnZGZfdHJhbnNwb3J0KSAgCgojIENyZWF0ZSBTcGFyayBEYXRhRnJhbWUKc3BhcmtfZGZfdHJhbnNwb3J0ID0gc3BhcmsuY3JlYXRlRGF0YUZyYW1lKHBkZl90cmFuc3BvcnQpCgojIERpc3BsYXkgdGhlIFNwYXJrIERhdGFGcmFtZQpkaXNwbGF5KHNwYXJrX2RmX3RyYW5zcG9ydCk=\").decode())\n\n  try:\n    # run user code\n    __data_summary_user_code_fn()\n\n    # run on valid tableResultIndex\n    if len(__data_summary_dfs) > 0:\n      # run summarize\n      if type(__data_summary_dfs[0]).__module__ == \"databricks.koalas.frame\":\n        # koalas dataframe\n        dbutils.data.summarize(__data_summary_dfs[0].to_spark())\n      elif type(__data_summary_dfs[0]).__module__ == \"pandas.core.frame\":\n        # pandas dataframe\n        dbutils.data.summarize(spark.createDataFrame(__data_summary_dfs[0]))\n      else:\n        dbutils.data.summarize(__data_summary_dfs[0])\n    else:\n        displayHTML(\"dataframe no longer exists. If you're using dataframe.display(), use display(dataframe) instead.\")\n\n  finally:\n    display = __data_summary_display_orig\n    del __data_summary_display_new\n    del __data_summary_display_orig\n    del __data_summary_dfs\n    del __data_summary_user_code_fn\nelse:\n  print(\"This DBR version does not support data profiles.\")",
       "commandTitle": "Data Profile 1",
       "commandType": "auto",
       "commandVersion": 0,
       "commentThread": [],
       "commentsVisible": false,
       "contentSha256Hex": null,
       "customPlotOptions": {},
       "datasetPreviewNameToCmdIdMap": {},
       "diffDeletes": [],
       "diffInserts": [],
       "displayType": "table",
       "error": null,
       "errorDetails": null,
       "errorSummary": null,
       "errorTraceType": null,
       "finishTime": 1749611180499,
       "globalVars": {},
       "guid": "",
       "height": "auto",
       "hideCommandCode": false,
       "hideCommandResult": false,
       "iPythonMetadata": null,
       "inputWidgets": {},
       "isLockedInExamMode": false,
       "latestUser": "a user",
       "latestUserId": null,
       "listResultMetadata": [
        [
         "ansi",
         69
        ],
        [
         "mimeBundle",
         null
        ]
       ],
       "metadata": {
        "byteLimit": 2048000,
        "rowLimit": 10000
       },
       "nuid": "4b723901-3339-4887-b04a-9d41fce2d27f",
       "origId": 0,
       "parentHierarchy": [],
       "pivotAggregation": null,
       "pivotColumns": null,
       "position": 5.0,
       "resultDbfsErrorMessage": null,
       "resultDbfsStatus": "INLINED_IN_TREE",
       "results": null,
       "showCommandTitle": false,
       "startTime": 1749611110202,
       "state": "input",
       "streamStates": {},
       "subcommandOptions": null,
       "submitTime": 1749611110050,
       "subtype": "tableResultSubCmd.dataSummary",
       "tableResultIndex": 0,
       "tableResultSettingsMap": {},
       "useConsistentColors": false,
       "version": "CommandV1",
       "width": "auto",
       "workflows": null,
       "xColumns": null,
       "yColumns": null
      }
     },
     "output_type": "display_data"
    }
   ],
   "source": [
    "import geopandas as gpd\n",
    "from pyspark.sql import SparkSession\n",
    "from pyspark.sql.functions import col\n",
    "from shapely import wkt\n",
    "import pandas as pd\n",
    "\n",
    "gdf_transport = gpd.read_file(f\"{extract_path}/VicMap_Sample/TR_ROAD_INFRASTRUCTURE.shp\")\n",
    "\n",
    "# Convert geometry to WKT\n",
    "gdf_transport['geometry'] = gdf_transport.geometry.to_wkt()  \n",
    "\n",
    "# Convert GeoDataFrame to Pandas DataFrame\n",
    "pdf_transport = pd.DataFrame(gdf_transport)  \n",
    "\n",
    "# Create Spark DataFrame\n",
    "spark_df_transport = spark.createDataFrame(pdf_transport)\n",
    "\n",
    "# Display the Spark DataFrame\n",
    "display(spark_df_transport)\n",
    "\n",
    "(\n",
    "  spark_df_transport\n",
    "  .drop(\"CONS_MAT\", \"URBAN\") # remove void column (spark infers all null column as void)\n",
    "  .write.mode(\"overwrite\")\n",
    "  .option(\"overwriteSchema\", \"true\")\n",
    "  .saveAsTable(f\"{catalog}.{schema}.bronze_road_infra\")\n",
    ")"
   ]
  },
  {
   "cell_type": "code",
   "execution_count": 0,
   "metadata": {
    "application/vnd.databricks.v1+cell": {
     "cellMetadata": {
      "byteLimit": 2048000,
      "rowLimit": 10000
     },
     "inputWidgets": {},
     "nuid": "c51445e7-a4a0-4fce-bb59-cc2c287503ff",
     "showTitle": true,
     "tableResultSettingsMap": {},
     "title": "Create Bronze Road table"
    }
   },
   "outputs": [
    {
     "output_type": "display_data",
     "data": {
      "text/plain": [
       "Databricks data profile. Run in Databricks to view."
      ]
     },
     "metadata": {
      "application/vnd.databricks.v1.subcommand+json": {
       "baseErrorDetails": null,
       "bindings": {},
       "collapsed": false,
       "command": "%python\nif hasattr(dbutils, \"data\") and hasattr(dbutils.data, \"summarize\"):\n  # setup\n  __data_summary_display_orig = display\n  __data_summary_dfs = []\n  def __data_summary_display_new(df):\n    # add only when result is going to be table type\n    __data_summary_df_modules = [\"pandas.core.frame\", \"databricks.koalas.frame\", \"pyspark.sql.dataframe\", \"pyspark.pandas.frame\", \"pyspark.sql.connect.dataframe\", \"pyspark.sql.classic.dataframe\"]\n    if (type(df).__module__ in __data_summary_df_modules and type(df).__name__ == 'DataFrame') or isinstance(df, list):\n      __data_summary_dfs.append(df)\n  display = __data_summary_display_new\n\n  def __data_summary_user_code_fn():\n    import base64\n    exec(base64.standard_b64decode(\"aW1wb3J0IGdlb3BhbmRhcyBhcyBncGQKZnJvbSBweXNwYXJrLnNxbCBpbXBvcnQgU3BhcmtTZXNzaW9uCmZyb20gcHlzcGFyay5zcWwuZnVuY3Rpb25zIGltcG9ydCBjb2wKZnJvbSBzaGFwZWx5IGltcG9ydCB3a3QKaW1wb3J0IHBhbmRhcyBhcyBwZAoKZ2RmX3RyYW5zcG9ydCA9IGdwZC5yZWFkX2ZpbGUoIi9Wb2x1bWVzL2Rhbm55X2NhdGFsb2cvdmljbWFwX3NjaGVtYS9zb3VyY2VzL1ZpY21hcF90cmFuc3BvcnQvZ2RhMjAyMF92aWNncmlkL2VzcmlzaGFwZS93aG9sZV9vZl9kYXRhc2V0L3ZpY3RvcmlhL1ZNVFJBTlMvVFJfUk9BRC5zaHAiKQoKIyBDb252ZXJ0IGdlb21ldHJ5IHRvIFdLVApnZGZfdHJhbnNwb3J0WydnZW9tZXRyeSddID0gZ2RmX3RyYW5zcG9ydC5nZW9tZXRyeS50b193a3QoKSAgCgojIENvbnZlcnQgR2VvRGF0YUZyYW1lIHRvIFBhbmRhcyBEYXRhRnJhbWUKcGRmX3RyYW5zcG9ydCA9IHBkLkRhdGFGcmFtZShnZGZfdHJhbnNwb3J0KSAgCgojIENyZWF0ZSBTcGFyayBEYXRhRnJhbWUKc3BhcmtfZGZfdHJhbnNwb3J0ID0gc3BhcmsuY3JlYXRlRGF0YUZyYW1lKHBkZl90cmFuc3BvcnQpCgojIERpc3BsYXkgdGhlIFNwYXJrIERhdGFGcmFtZQpkaXNwbGF5KHNwYXJrX2RmX3RyYW5zcG9ydCkKCnNwYXJrX2RmX3RyYW5zcG9ydC53cml0ZS5tb2RlKCJvdmVyd3JpdGUiKS5zYXZlQXNUYWJsZSgiZGFubnlfY2F0YWxvZy52aWNtYXBfc2NoZW1hLmJyb256ZV9yb2FkIik=\").decode())\n\n  try:\n    # run user code\n    __data_summary_user_code_fn()\n\n    # run on valid tableResultIndex\n    if len(__data_summary_dfs) > 0:\n      # run summarize\n      if type(__data_summary_dfs[0]).__module__ == \"databricks.koalas.frame\":\n        # koalas dataframe\n        dbutils.data.summarize(__data_summary_dfs[0].to_spark())\n      elif type(__data_summary_dfs[0]).__module__ == \"pandas.core.frame\":\n        # pandas dataframe\n        dbutils.data.summarize(spark.createDataFrame(__data_summary_dfs[0]))\n      else:\n        dbutils.data.summarize(__data_summary_dfs[0])\n    else:\n        displayHTML(\"dataframe no longer exists. If you're using dataframe.display(), use display(dataframe) instead.\")\n\n  finally:\n    display = __data_summary_display_orig\n    del __data_summary_display_new\n    del __data_summary_display_orig\n    del __data_summary_dfs\n    del __data_summary_user_code_fn\nelse:\n  print(\"This DBR version does not support data profiles.\")",
       "commandTitle": "Data Profile 1",
       "commandType": "auto",
       "commandVersion": 0,
       "commentThread": [],
       "commentsVisible": false,
       "contentSha256Hex": null,
       "customPlotOptions": {},
       "datasetPreviewNameToCmdIdMap": {},
       "diffDeletes": [],
       "diffInserts": [],
       "displayType": "table",
       "error": null,
       "errorDetails": null,
       "errorSummary": null,
       "errorTraceType": null,
       "finishTime": 1749613989150,
       "globalVars": {},
       "guid": "",
       "height": "auto",
       "hideCommandCode": false,
       "hideCommandResult": false,
       "iPythonMetadata": null,
       "inputWidgets": {},
       "isLockedInExamMode": false,
       "latestUser": "a user",
       "latestUserId": null,
       "listResultMetadata": [
        [
         "ansi",
         69
        ],
        [
         "mimeBundle",
         null
        ]
       ],
       "metadata": {
        "byteLimit": 2048000,
        "rowLimit": 10000
       },
       "nuid": "884fe4c5-7704-4344-aa60-ece4d923a5be",
       "origId": 0,
       "parentHierarchy": [],
       "pivotAggregation": null,
       "pivotColumns": null,
       "position": 6.0,
       "resultDbfsErrorMessage": null,
       "resultDbfsStatus": "INLINED_IN_TREE",
       "results": null,
       "showCommandTitle": false,
       "startTime": 1749613664780,
       "state": "input",
       "streamStates": {},
       "subcommandOptions": null,
       "submitTime": 1749613664672,
       "subtype": "tableResultSubCmd.dataSummary",
       "tableResultIndex": 0,
       "tableResultSettingsMap": {},
       "useConsistentColors": false,
       "version": "CommandV1",
       "width": "auto",
       "workflows": null,
       "xColumns": null,
       "yColumns": null
      }
     },
     "output_type": "display_data"
    }
   ],
   "source": [
    "import geopandas as gpd\n",
    "from pyspark.sql import SparkSession\n",
    "from pyspark.sql.functions import col\n",
    "from shapely import wkt\n",
    "import pandas as pd\n",
    "\n",
    "gdf_transport = gpd.read_file(f\"{extract_path}/VicMap_Sample/TR_ROAD.shp\")\n",
    "\n",
    "# Convert geometry to WKT\n",
    "gdf_transport['geometry'] = gdf_transport.geometry.to_wkt()  \n",
    "\n",
    "# Convert GeoDataFrame to Pandas DataFrame\n",
    "pdf_transport = pd.DataFrame(gdf_transport)  \n",
    "\n",
    "# Create Spark DataFrame\n",
    "spark_df_transport = spark.createDataFrame(pdf_transport)\n",
    "\n",
    "# Display the Spark DataFrame\n",
    "display(spark_df_transport)\n",
    "\n",
    "(\n",
    "  spark_df_transport\n",
    "  .drop(\"RD_SUF6\", \"RD_SUF7\", \"RDNAMEUSE7\", \"CONS_MAT\")\n",
    "  .write.mode(\"overwrite\")\n",
    "  .option(\"overwriteSchema\", \"true\")\n",
    "  .saveAsTable(f\"{catalog}.{schema}.bronze_road\")\n",
    ")"
   ]
  },
  {
   "cell_type": "code",
   "execution_count": 0,
   "metadata": {
    "application/vnd.databricks.v1+cell": {
     "cellMetadata": {
      "byteLimit": 2048000,
      "implicitDf": true,
      "rowLimit": 10000
     },
     "inputWidgets": {},
     "nuid": "3689d915-9f49-4595-b5b9-85c5338883f5",
     "showTitle": true,
     "tableResultSettingsMap": {},
     "title": "Create a temp view with CRS transformed from GDA2020 VicGrid (7899) to WGS84 (4326)"
    }
   },
   "outputs": [],
   "source": [
    "%sql\n",
    "CREATE OR REPLACE TEMPORARY VIEW bronze_road_4326 AS\n",
    "SELECT UFI, PFI, FTYPE_CODE, EZI_RDNAME, LEFT_LOC, RIGHT_LOC, FROM_UFI, TO_UFI, st_astext(st_transform(st_setsrid(st_geomfromwkt(geometry), 7899), 4326)) as geom_4326 FROM danny_catalog.vicmap_schema.bronze_road;\n",
    "\n",
    "SELECT * FROM bronze_road_4326 LIMIT 100"
   ]
  },
  {
   "cell_type": "code",
   "execution_count": 0,
   "metadata": {
    "application/vnd.databricks.v1+cell": {
     "cellMetadata": {
      "byteLimit": 2048000,
      "rowLimit": 10000
     },
     "inputWidgets": {},
     "nuid": "2de313d6-c485-4efe-8dd1-7348861f835a",
     "showTitle": true,
     "tableResultSettingsMap": {},
     "title": "Visualising a sample of the bronze road data with Folium on VicMap base map"
    }
   },
   "outputs": [],
   "source": [
    "import folium\n",
    "from folium import GeoJson\n",
    "import pandas as pd\n",
    "\n",
    "# Load geom_4326 from the SQL table into a Pandas DataFrame\n",
    "df_geom = spark.sql(\"SELECT geom_4326, EZI_RDNAME FROM bronze_road_4326 LIMIT 5000\").toPandas()\n",
    "\n",
    "# Create a base map\n",
    "#m = folium.Map(location=[-37.8136, 144.9631], zoom_start=10) # Using OpenStreetMap\n",
    "m = folium.Map(location=[-37.81, 144.96], zoom_start=12, tiles=None) # Using Vicmap basemap\n",
    "\n",
    "folium.raster_layers.WmsTileLayer(\n",
    "    url=\"https://base.maps.vic.gov.au/service?\",\n",
    "    layers=\"CARTO_WM_256\",           # WMS layer name\n",
    "    name=\"Vicmap WMS\",\n",
    "    fmt=\"image/png\",\n",
    "    transparent=True,\n",
    "    version=\"1.1.1\",                 # WMS version supported\n",
    "    attr=\"Vicmap - Department of Transport and Planning, Victoria\",\n",
    "    overlay=True,\n",
    "    control=True\n",
    ").add_to(m)\n",
    "\n",
    "# Add geometries to the map with tooltips\n",
    "for _, row in df_geom.iterrows():\n",
    "    geojson = folium.GeoJson(data=wkt.loads(row['geom_4326']),\n",
    "                             tooltip=row['EZI_RDNAME'])\n",
    "    geojson.add_to(m)\n",
    "\n",
    "# Display the map\n",
    "display(m)"
   ]
  },
  {
   "cell_type": "code",
   "execution_count": 0,
   "metadata": {
    "application/vnd.databricks.v1+cell": {
     "cellMetadata": {
      "byteLimit": 2048000,
      "rowLimit": 10000
     },
     "inputWidgets": {},
     "nuid": "990e5876-5a02-4f01-a128-edf46d5db08a",
     "showTitle": true,
     "tableResultSettingsMap": {},
     "title": "Creating a function to create VicMap base map for reusability"
    }
   },
   "outputs": [],
   "source": [
    "import folium\n",
    "from folium import GeoJson\n",
    "from shapely import wkt\n",
    "\n",
    "def create_vicmap_basemap(\n",
    "    location=[-37.81, 144.96],\n",
    "    zoom_start=12,\n",
    "    show_layer_control=True,\n",
    "    **wms_kwargs\n",
    "):\n",
    "    \"\"\"\n",
    "    Creates a Folium map with Vicmap WMS basemap and allows adding more elements.\n",
    "\n",
    "    Parameters:\n",
    "        location: Center of map [lat, lon]\n",
    "        zoom_start: Initial zoom level\n",
    "        show_layer_control: Add folium.LayerControl()?\n",
    "        wms_kwargs: Additional kwargs for WmsTileLayer (for flexibility)\n",
    "    \n",
    "    Returns:\n",
    "        folium.Map object\n",
    "    \"\"\"\n",
    "    m = folium.Map(location=location, zoom_start=zoom_start, tiles=None)\n",
    "    folium.raster_layers.WmsTileLayer(\n",
    "        url=\"https://base.maps.vic.gov.au/service?\",\n",
    "        layers=\"CARTO_WM_256\",\n",
    "        name=\"Vicmap WMS\",\n",
    "        fmt=\"image/png\",\n",
    "        transparent=True,\n",
    "        version=\"1.1.1\",\n",
    "        attr=\"Vicmap - Department of Transport and Planning, Victoria\",\n",
    "        overlay=True,\n",
    "        control=True,\n",
    "        **wms_kwargs\n",
    "    ).add_to(m)\n",
    "    return m\n",
    "\n",
    "# Example use with a GeoPandas/GeoJSON DataFrame\n",
    "m = create_vicmap_basemap(zoom_start=12)\n",
    "\n",
    "# Add geometries from a pandas DataFrame (with WKT geometry)\n",
    "for _, row in df_geom.iterrows():\n",
    "    geojson = folium.GeoJson(data=wkt.loads(row['geom_4326']),\n",
    "                             tooltip=row['EZI_RDNAME'])\n",
    "    geojson.add_to(m)\n",
    "\n",
    "# Display in notebook\n",
    "display(m)\n"
   ]
  },
  {
   "cell_type": "code",
   "execution_count": 0,
   "metadata": {
    "application/vnd.databricks.v1+cell": {
     "cellMetadata": {
      "byteLimit": 2048000,
      "implicitDf": true,
      "rowLimit": 10000
     },
     "inputWidgets": {},
     "nuid": "b5a90c2d-44bd-4bc7-8062-5aadf07ed8d3",
     "showTitle": true,
     "tableResultSettingsMap": {},
     "title": "Transforming from 7899 to 4326 for Road Infra"
    }
   },
   "outputs": [],
   "source": [
    "%sql\n",
    "CREATE OR REPLACE TEMPORARY VIEW bronze_road_infra_4326 AS\n",
    "SELECT UFI, PFI, FTYPE_CODE, st_astext(st_transform(st_setsrid(st_geomfromwkt(geometry), 7899), 4326)) as geom_4326 FROM danny_catalog.vicmap_schema.bronze_road_infra;\n",
    "\n",
    "SELECT * FROM bronze_road_infra_4326 LIMIT 100"
   ]
  },
  {
   "cell_type": "code",
   "execution_count": 0,
   "metadata": {
    "application/vnd.databricks.v1+cell": {
     "cellMetadata": {
      "byteLimit": 2048000,
      "rowLimit": 10000
     },
     "inputWidgets": {},
     "nuid": "a425f413-540c-4c59-98e6-d4d03926786c",
     "showTitle": true,
     "tableResultSettingsMap": {},
     "title": "Visualising some road infra points"
    }
   },
   "outputs": [],
   "source": [
    "import folium\n",
    "from folium import GeoJson\n",
    "import pandas as pd\n",
    "from shapely import wkt\n",
    "\n",
    "# Load geom_4326 from the SQL table into a Pandas DataFrame\n",
    "df_geom = spark.sql(\"SELECT FTYPE_CODE, geom_4326 FROM bronze_road_infra_4326 LIMIT 5000\").toPandas()\n",
    "\n",
    "# Create a base map\n",
    "m = create_vicmap_basemap(zoom_start=12)\n",
    "\n",
    "# Add geometries to the map\n",
    "for _, row in df_geom.iterrows():\n",
    "    geojson = folium.GeoJson(data=wkt.loads(row['geom_4326']),\n",
    "                             tooltip=row['FTYPE_CODE'])\n",
    "    geojson.add_to(m)\n",
    "\n",
    "# Display the map\n",
    "display(m)"
   ]
  },
  {
   "cell_type": "markdown",
   "metadata": {
    "application/vnd.databricks.v1+cell": {
     "cellMetadata": {},
     "inputWidgets": {},
     "nuid": "db9b4a0b-a955-4800-8040-4e430ca81322",
     "showTitle": false,
     "tableResultSettingsMap": {},
     "title": ""
    }
   },
   "source": [
    "## Exploring Vicmap locality polygon"
   ]
  },
  {
   "cell_type": "code",
   "execution_count": 0,
   "metadata": {
    "application/vnd.databricks.v1+cell": {
     "cellMetadata": {
      "byteLimit": 2048000,
      "rowLimit": 10000
     },
     "inputWidgets": {},
     "nuid": "d8178875-1d51-4d4f-b8c2-e148732a9860",
     "showTitle": true,
     "tableResultSettingsMap": {},
     "title": "Creating locality polygon bronze table"
    }
   },
   "outputs": [],
   "source": [
    "import geopandas as gpd\n",
    "from pyspark.sql import SparkSession\n",
    "from pyspark.sql.functions import col\n",
    "from shapely import wkt\n",
    "import pandas as pd\n",
    "\n",
    "gdf_transport = gpd.read_file(f\"{extract_path}/VicMap_Sample/LOCALITY_POLYGON.shp\")\n",
    "\n",
    "# Convert geometry to WKT\n",
    "gdf_transport['geometry'] = gdf_transport.geometry.to_wkt()  \n",
    "\n",
    "# Convert GeoDataFrame to Pandas DataFrame\n",
    "pdf_transport = pd.DataFrame(gdf_transport)  \n",
    "\n",
    "# Create Spark DataFrame\n",
    "spark_df_transport = spark.createDataFrame(pdf_transport)\n",
    "\n",
    "# Display the Spark DataFrame\n",
    "display(spark_df_transport)\n",
    "\n",
    "(\n",
    "  spark_df_transport\n",
    "  #.drop(\"RD_SUF6\", \"RD_SUF7\", \"RDNAMEUSE7\", \"CONS_MAT\")\n",
    "  .write.mode(\"overwrite\")\n",
    "  .option(\"overwriteSchema\", \"true\")\n",
    "  .saveAsTable(f\"{catalog}.{schema}.bronze_locality\")\n",
    ")"
   ]
  },
  {
   "cell_type": "code",
   "execution_count": 0,
   "metadata": {
    "application/vnd.databricks.v1+cell": {
     "cellMetadata": {
      "byteLimit": 2048000,
      "implicitDf": true,
      "rowLimit": 10000
     },
     "inputWidgets": {},
     "nuid": "fea2cd10-fd5d-4046-82ec-ce01b3488577",
     "showTitle": true,
     "tableResultSettingsMap": {},
     "title": "Filtered 3 suburbs and focus on them"
    }
   },
   "outputs": [],
   "source": [
    "%sql\n",
    "SELECT UFI, PFI, LOCALITY, st_astext(st_transform(st_setsrid(st_geomfromwkt(geometry), 7899), 4326)) as geom_4326 \n",
    "FROM danny_catalog.vicmap_schema.bronze_locality\n",
    "WHERE LOCALITY ILIKE '%box hill%'"
   ]
  },
  {
   "cell_type": "code",
   "execution_count": 0,
   "metadata": {
    "application/vnd.databricks.v1+cell": {
     "cellMetadata": {
      "byteLimit": 2048000,
      "rowLimit": 10000
     },
     "inputWidgets": {},
     "nuid": "f4d8bab5-7ffb-4f65-b26e-45fb5153911b",
     "showTitle": false,
     "tableResultSettingsMap": {},
     "title": ""
    }
   },
   "outputs": [],
   "source": [
    "import folium\n",
    "from folium import GeoJson\n",
    "import pandas as pd\n",
    "from shapely import wkt\n",
    "\n",
    "# Load geom_4326 from the SQL table into a Pandas DataFrame\n",
    "df_geom = spark.sql(\"SELECT LOCALITY, geom_4326 FROM _sqldf LIMIT 10\").toPandas()\n",
    "\n",
    "# Create a base map\n",
    "m = create_vicmap_basemap(zoom_start=12)\n",
    "\n",
    "# Add geometries to the map\n",
    "for _, row in df_geom.iterrows():\n",
    "    geojson = folium.GeoJson(data=wkt.loads(row['geom_4326']),\n",
    "                             tooltip=row['LOCALITY'])\n",
    "    geojson.add_to(m)\n",
    "\n",
    "# Display the map\n",
    "display(m)"
   ]
  },
  {
   "cell_type": "code",
   "execution_count": 0,
   "metadata": {
    "application/vnd.databricks.v1+cell": {
     "cellMetadata": {
      "byteLimit": 2048000,
      "implicitDf": true,
      "rowLimit": 10000
     },
     "inputWidgets": {},
     "nuid": "3d51c2f9-6f81-43e6-a59c-94f07f61692a",
     "showTitle": true,
     "tableResultSettingsMap": {},
     "title": "Create road infra silver table with H3 indexes alongside the geometries"
    }
   },
   "outputs": [],
   "source": [
    "%sql\n",
    "CREATE OR REPLACE TABLE danny_catalog.vicmap_schema.silver_road_infra AS \n",
    "SELECT UFI, PFI, FTYPE_CODE, st_astext(st_transform(st_setsrid(st_geomfromwkt(geometry), 7899), 4326)) as geom_4326, h3_pointash3(st_astext(st_transform(st_setsrid(st_geomfromwkt(geometry), 7899), 4326)), 9) as h3 FROM danny_catalog.vicmap_schema.bronze_road_infra"
   ]
  },
  {
   "cell_type": "code",
   "execution_count": 0,
   "metadata": {
    "application/vnd.databricks.v1+cell": {
     "cellMetadata": {
      "byteLimit": 2048000,
      "implicitDf": true,
      "rowLimit": 10000
     },
     "inputWidgets": {},
     "nuid": "7adbb8a4-26b7-4491-8de9-e092ebedd5a8",
     "showTitle": true,
     "tableResultSettingsMap": {},
     "title": "Have a look at the silver road infra table"
    }
   },
   "outputs": [],
   "source": [
    "%sql\n",
    "SELECT * FROM danny_catalog.vicmap_schema.silver_road_infra"
   ]
  },
  {
   "cell_type": "code",
   "execution_count": 0,
   "metadata": {
    "application/vnd.databricks.v1+cell": {
     "cellMetadata": {
      "byteLimit": 2048000,
      "implicitDf": true,
      "rowLimit": 10000
     },
     "inputWidgets": {},
     "nuid": "83cbc34e-a4c6-4292-9258-979c78706340",
     "showTitle": true,
     "tableResultSettingsMap": {},
     "title": "Create the road silver table"
    }
   },
   "outputs": [],
   "source": [
    "%sql\n",
    "CREATE OR REPLACE TABLE danny_catalog.vicmap_schema.silver_road AS\n",
    "SELECT UFI, PFI, FTYPE_CODE, EZI_RDNAME, LEFT_LOC, RIGHT_LOC, FROM_UFI, TO_UFI, st_astext(st_transform(st_setsrid(st_geomfromwkt(geometry), 7899), 4326)) as geom_4326, inline(h3_tessellateaswkb(st_astext(st_transform(st_setsrid(st_geomfromwkt(geometry), 7899), 4326)), 9)) FROM danny_catalog.vicmap_schema.bronze_road"
   ]
  },
  {
   "cell_type": "code",
   "execution_count": 0,
   "metadata": {
    "application/vnd.databricks.v1+cell": {
     "cellMetadata": {
      "byteLimit": 2048000,
      "implicitDf": true,
      "rowLimit": 10000
     },
     "inputWidgets": {},
     "nuid": "9791b5d0-3e90-4672-8e43-43adb0524888",
     "showTitle": true,
     "tableResultSettingsMap": {},
     "title": "Create a gold table that just focus on the road segment Elgar Road"
    }
   },
   "outputs": [],
   "source": [
    "%sql\n",
    "CREATE OR REPLACE TABLE danny_catalog.vicmap_schema.elgar_road_linestring AS\n",
    "SELECT * FROM danny_catalog.vicmap_schema.silver_road\n",
    "WHERE EZI_RDNAME = 'ELGAR ROAD'"
   ]
  },
  {
   "cell_type": "code",
   "execution_count": 0,
   "metadata": {
    "application/vnd.databricks.v1+cell": {
     "cellMetadata": {
      "byteLimit": 2048000,
      "implicitDf": true,
      "rowLimit": 10000
     },
     "inputWidgets": {},
     "nuid": "59558d86-b5ec-4ca7-b0d6-7dd99145b58e",
     "showTitle": true,
     "tableResultSettingsMap": {},
     "title": "Have a look at the Elgar Road gold dataset"
    }
   },
   "outputs": [],
   "source": [
    "%sql\n",
    "SELECT * FROM danny_catalog.vicmap_schema.elgar_road_linestring"
   ]
  },
  {
   "cell_type": "code",
   "execution_count": 0,
   "metadata": {
    "application/vnd.databricks.v1+cell": {
     "cellMetadata": {
      "byteLimit": 2048000,
      "implicitDf": true,
      "rowLimit": 10000
     },
     "inputWidgets": {},
     "nuid": "0aceaf62-35c0-41db-bc72-b8c3a310bc9b",
     "showTitle": true,
     "tableResultSettingsMap": {},
     "title": "Create the Box Hill Polygon gold table"
    }
   },
   "outputs": [],
   "source": [
    "%sql \n",
    "CREATE OR REPLACE TABLE danny_catalog.vicmap_schema.box_hill_polygons AS\n",
    "SELECT UFI, PFI, LOCALITY, st_astext(st_transform(st_setsrid(st_geomfromwkt(geometry), 7899), 4326)) as geom_4326, inline(h3_tessellateaswkb(st_astext(st_transform(st_setsrid(st_geomfromwkt(geometry), 7899), 4326)), 9))\n",
    "FROM danny_catalog.vicmap_schema.bronze_locality\n",
    "WHERE LOCALITY ILIKE '%box hill%'"
   ]
  },
  {
   "cell_type": "markdown",
   "metadata": {
    "application/vnd.databricks.v1+cell": {
     "cellMetadata": {},
     "inputWidgets": {},
     "nuid": "b174137f-ce09-4320-9292-89a46be90f44",
     "showTitle": false,
     "tableResultSettingsMap": {},
     "title": ""
    }
   },
   "source": [
    "## Find all the road infrastructures in the 3 Box Hill suburbs"
   ]
  },
  {
   "cell_type": "code",
   "execution_count": 0,
   "metadata": {
    "application/vnd.databricks.v1+cell": {
     "cellMetadata": {
      "byteLimit": 2048000,
      "implicitDf": true,
      "rowLimit": 10000
     },
     "inputWidgets": {},
     "nuid": "8089ac69-2ded-4544-8673-dd59e3c26767",
     "showTitle": true,
     "tableResultSettingsMap": {},
     "title": "Perform a spatial join using ST function (take a much longer time)"
    }
   },
   "outputs": [],
   "source": [
    "%sql\n",
    "SELECT sri.*\n",
    "FROM danny_catalog.vicmap_schema.silver_road_infra sri\n",
    "JOIN danny_catalog.vicmap_schema.box_hill_polygons bhp\n",
    "ON st_contains(st_geomfromtext(bhp.geom_4326), st_geomfromtext(sri.geom_4326))"
   ]
  },
  {
   "cell_type": "code",
   "execution_count": 0,
   "metadata": {
    "application/vnd.databricks.v1+cell": {
     "cellMetadata": {
      "byteLimit": 2048000,
      "implicitDf": true,
      "rowLimit": 10000
     },
     "inputWidgets": {},
     "nuid": "fca91eac-6e42-42e3-8f37-cfec7dde748f",
     "showTitle": true,
     "tableResultSettingsMap": {},
     "title": "Perform a hybrid (H3 + Geometry) spatial join (much faster)"
    }
   },
   "outputs": [],
   "source": [
    "%sql\n",
    "SELECT sri.*, bhp.geom_4326 as geom_polygon, bhp.LOCALITY FROM danny_catalog.vicmap_schema.silver_road_infra sri\n",
    "JOIN danny_catalog.vicmap_schema.box_hill_polygons bhp\n",
    "ON bhp.cellid = sri.h3\n",
    "WHERE bhp.core OR st_contains(st_geomfromwkb(bhp.chip), st_geomfromwkt(sri.geom_4326))"
   ]
  },
  {
   "cell_type": "code",
   "execution_count": 0,
   "metadata": {
    "application/vnd.databricks.v1+cell": {
     "cellMetadata": {
      "byteLimit": 2048000,
      "rowLimit": 10000
     },
     "inputWidgets": {},
     "nuid": "06fc3e30-2806-47b1-aacb-1aca923e1ae1",
     "showTitle": true,
     "tableResultSettingsMap": {},
     "title": "Visualising the road infra that are in those 3 suburbs"
    }
   },
   "outputs": [],
   "source": [
    "import folium\n",
    "import pandas as pd\n",
    "import h3\n",
    "from shapely.geometry import Polygon, Point\n",
    "from shapely import wkt\n",
    "\n",
    "# Load H3 hexagon indices and FTYPE_CODE from the SQL table into a Pandas DataFrame\n",
    "df_h3 = spark.sql(\"SELECT FTYPE_CODE, h3_h3tostring(h3) as h3 FROM _sqldf\").toPandas()\n",
    "\n",
    "# Load points in WKT format from the SQL table into a Pandas DataFrame\n",
    "df_points = spark.sql(\"SELECT FTYPE_CODE, geom_4326 FROM _sqldf\").toPandas()\n",
    "\n",
    "# Load polygons in WKT format from the SQL table into a Pandas DataFrame\n",
    "df_polygons = spark.sql(\"SELECT DISTINCT geom_polygon, LOCALITY FROM _sqldf\").toPandas()\n",
    "\n",
    "# Create a base map\n",
    "#m = folium.Map(location=[-37.8215, 145.126], zoom_start=13)\n",
    "m = create_vicmap_basemap(zoom_start=10)\n",
    "\n",
    "# Add H3 hexagons to the map with orange color\n",
    "for _, row in df_h3.iterrows():\n",
    "    hex_boundary = h3.cell_to_boundary(row['h3'])\n",
    "    polygon = Polygon(hex_boundary)\n",
    "    geojson = folium.GeoJson(\n",
    "        data=polygon.__geo_interface__,\n",
    "        tooltip=row['FTYPE_CODE'],\n",
    "        style_function=lambda feature: {\n",
    "            'fillColor': 'orange',\n",
    "            'color': 'orange',\n",
    "            'weight': 1,\n",
    "            'fillOpacity': 0.5,\n",
    "        }\n",
    "    )\n",
    "    geojson.add_to(m)\n",
    "\n",
    "# Add polygons to the map\n",
    "for _, row in df_polygons.iterrows():\n",
    "    polygon = wkt.loads(row['geom_polygon'])\n",
    "    geojson = folium.GeoJson(\n",
    "        data=polygon.__geo_interface__,\n",
    "        tooltip=row['LOCALITY'],\n",
    "        style_function=lambda feature: {\n",
    "            'fillColor': 'blue',\n",
    "            'color': 'blue',\n",
    "            'weight': 1,\n",
    "            'fillOpacity': 0.3,\n",
    "        }\n",
    "    )\n",
    "    geojson.add_to(m)\n",
    "\n",
    "# Add points to the map as circles with different colors for different FTYPE_CODE\n",
    "for _, row in df_points.iterrows():\n",
    "    point = wkt.loads(row['geom_4326'])\n",
    "    #color = color_map.get(row['FTYPE_CODE'], 'black')  # Default to black if FTYPE_CODE not in color_map\n",
    "    folium.CircleMarker(\n",
    "        location=[point.y, point.x],\n",
    "        radius=0.5,\n",
    "        color='red',\n",
    "        fill=True,\n",
    "        fill_color='red',\n",
    "        fill_opacity=0.6,\n",
    "        tooltip=row['FTYPE_CODE']\n",
    "    ).add_to(m)\n",
    "\n",
    "# Display the map\n",
    "display(m)"
   ]
  },
  {
   "cell_type": "markdown",
   "metadata": {
    "application/vnd.databricks.v1+cell": {
     "cellMetadata": {},
     "inputWidgets": {},
     "nuid": "8b0cee72-e467-46e1-b86e-e12d27055fde",
     "showTitle": false,
     "tableResultSettingsMap": {},
     "title": ""
    }
   },
   "source": [
    "## Find out all the infra on the Elgar road segment"
   ]
  },
  {
   "cell_type": "code",
   "execution_count": 0,
   "metadata": {
    "application/vnd.databricks.v1+cell": {
     "cellMetadata": {
      "byteLimit": 2048000,
      "implicitDf": true,
      "rowLimit": 10000
     },
     "inputWidgets": {},
     "nuid": "78e66838-0152-4943-815a-9124b1d0e59c",
     "showTitle": true,
     "tableResultSettingsMap": {},
     "title": "Find out the road infra on the (near the) Elgar Road"
    }
   },
   "outputs": [],
   "source": [
    "%sql\n",
    "SELECT \n",
    "    elgar.FTYPE_CODE as elgar_ftype_code,\n",
    "    elgar.geom_4326 as elgar_road_line_geom,\n",
    "    elgar.LEFT_LOC,\n",
    "    silver.FTYPE_CODE as silver_ftype_code,\n",
    "    silver.geom_4326 as infra_geom\n",
    "FROM \n",
    "    danny_catalog.vicmap_schema.elgar_road_linestring elgar\n",
    "JOIN \n",
    "    danny_catalog.vicmap_schema.silver_road_infra silver\n",
    "ON \n",
    "    elgar.cellid = silver.h3"
   ]
  },
  {
   "cell_type": "code",
   "execution_count": 0,
   "metadata": {
    "application/vnd.databricks.v1+cell": {
     "cellMetadata": {
      "byteLimit": 2048000,
      "rowLimit": 10000
     },
     "inputWidgets": {},
     "nuid": "d303075d-f61a-4c6d-b6d9-8356cb858e0a",
     "showTitle": true,
     "tableResultSettingsMap": {},
     "title": "Visualise the road infra on Elgar road (2 Elgar roads)"
    }
   },
   "outputs": [],
   "source": [
    "import folium\n",
    "import pandas as pd\n",
    "from shapely import wkt\n",
    "\n",
    "# Load linestrings in WKT format from the SQL table into a Pandas DataFrame\n",
    "df_linestrings = spark.sql(\"SELECT * FROM _sqldf\").toPandas()\n",
    "\n",
    "# Load points in WKT format from the SQL table into a Pandas DataFrame\n",
    "df_points = spark.sql(\"SELECT * FROM _sqldf\").toPandas()\n",
    "\n",
    "# Create a base map\n",
    "m = create_vicmap_basemap(zoom_start=10)\n",
    "\n",
    "# Add linestrings to the map\n",
    "for _, row in df_linestrings.iterrows():\n",
    "    linestring = wkt.loads(row['elgar_road_line_geom'])\n",
    "    geojson = folium.GeoJson(\n",
    "        data=linestring.__geo_interface__,\n",
    "        tooltip=row['LEFT_LOC'],\n",
    "        style_function=lambda feature: {\n",
    "            'color': 'green',\n",
    "            'weight': 2,\n",
    "        }\n",
    "    )\n",
    "    geojson.add_to(m)\n",
    "\n",
    "# Add points to the map as circles with different colors for different FTYPE_CODE\n",
    "for _, row in df_points.iterrows():\n",
    "    point = wkt.loads(row['infra_geom'])\n",
    "    folium.CircleMarker(\n",
    "        location=[point.y, point.x],\n",
    "        radius=0.5,\n",
    "        color='red',\n",
    "        fill=True,\n",
    "        fill_color='red',\n",
    "        fill_opacity=0.6,\n",
    "        tooltip=row['silver_ftype_code']\n",
    "    ).add_to(m)\n",
    "\n",
    "# Display the map\n",
    "display(m)"
   ]
  },
  {
   "cell_type": "markdown",
   "metadata": {
    "application/vnd.databricks.v1+cell": {
     "cellMetadata": {},
     "inputWidgets": {},
     "nuid": "bad730b8-ea87-487f-8e78-5f87b67ffe18",
     "showTitle": false,
     "tableResultSettingsMap": {},
     "title": ""
    }
   },
   "source": [
    "## Exploring Vicmap Address dataset"
   ]
  },
  {
   "cell_type": "code",
   "execution_count": 0,
   "metadata": {
    "application/vnd.databricks.v1+cell": {
     "cellMetadata": {
      "byteLimit": 2048000,
      "rowLimit": 10000
     },
     "inputWidgets": {},
     "nuid": "10d8f147-0eae-4fdb-90b4-a8a806148dd0",
     "showTitle": true,
     "tableResultSettingsMap": {},
     "title": "Create Bronze Table for Address Data"
    }
   },
   "outputs": [],
   "source": [
    "import geopandas as gpd\n",
    "import pandas as pd\n",
    "\n",
    "gdf = gpd.read_file(f\"{extract_path}/VicMap_Sample/VMADD.gdb\")\n",
    "gdf['geometry'] = gdf['geometry'].astype(str)\n",
    "spark_df = spark.createDataFrame(gdf)\n",
    "display(spark_df)\n",
    "\n",
    "(\n",
    "  spark_df\n",
    "  #.drop(\"CONS_MAT\", \"URBAN\") # remove void column (spark infers all null column as void)\n",
    "  .write.mode(\"overwrite\")\n",
    "  .option(\"overwriteSchema\", \"true\")\n",
    "  .saveAsTable(f\"{catalog}.{schema}.bronze_address\")\n",
    ")"
   ]
  },
  {
   "cell_type": "code",
   "execution_count": 0,
   "metadata": {
    "application/vnd.databricks.v1+cell": {
     "cellMetadata": {
      "byteLimit": 2048000,
      "implicitDf": true,
      "rowLimit": 10000
     },
     "inputWidgets": {},
     "nuid": "5f10373f-313e-4f51-8385-944c1af7273e",
     "showTitle": true,
     "tableResultSettingsMap": {},
     "title": "Create Silver Address Table with H3 Index and Transformed Geometry"
    }
   },
   "outputs": [],
   "source": [
    "%sql\n",
    "CREATE OR REPLACE TABLE danny_catalog.vicmap_schema.silver_address AS \n",
    "SELECT UFI, PFI, PROPERTY_PFI, EZI_ADDRESS, LOCALITY_NAME, POSTCODE, st_astext(st_transform(st_setsrid(st_geomfromwkt(geometry), 7899), 4326)) as geom_4326, h3_pointash3(st_astext(st_transform(st_setsrid(st_geomfromwkt(geometry), 7899), 4326)), 9) as h3 FROM danny_catalog.vicmap_schema.bronze_address"
   ]
  },
  {
   "cell_type": "code",
   "execution_count": 0,
   "metadata": {
    "application/vnd.databricks.v1+cell": {
     "cellMetadata": {
      "byteLimit": 2048000,
      "implicitDf": true,
      "rowLimit": 10000
     },
     "inputWidgets": {},
     "nuid": "5d72744a-2596-45b6-a5d6-3ed199fec86c",
     "showTitle": true,
     "tableResultSettingsMap": {},
     "title": "Fetching Sample Data from Silver Address Table"
    }
   },
   "outputs": [],
   "source": [
    "%sql\n",
    "SELECT * FROM danny_catalog.vicmap_schema.silver_address LIMIT 10"
   ]
  },
  {
   "cell_type": "markdown",
   "metadata": {
    "application/vnd.databricks.v1+cell": {
     "cellMetadata": {},
     "inputWidgets": {},
     "nuid": "b88cf3bf-773a-49ef-ba9c-fafa39605fd3",
     "showTitle": false,
     "tableResultSettingsMap": {},
     "title": ""
    }
   },
   "source": [
    "## Exploring Victorian Flood History October 2022 Event Public dataset\n",
    "\n",
    "https://discover.data.vic.gov.au/dataset/victorian-flood-history-october-2022-event-public"
   ]
  },
  {
   "cell_type": "code",
   "execution_count": 0,
   "metadata": {
    "application/vnd.databricks.v1+cell": {
     "cellMetadata": {
      "byteLimit": 2048000,
      "rowLimit": 10000
     },
     "inputWidgets": {},
     "nuid": "e30307e5-e301-4842-8830-d2a672c4761a",
     "showTitle": true,
     "tableResultSettingsMap": {},
     "title": "Create Bronze Table for Flood History Data"
    }
   },
   "outputs": [],
   "source": [
    "import geopandas as gpd\n",
    "from pyspark.sql import SparkSession\n",
    "from pyspark.sql.functions import col\n",
    "from shapely import wkt\n",
    "import pandas as pd\n",
    "\n",
    "gdf_flood = gpd.read_file(f\"{extract_path}/VicMap_Sample/VIC_FLOOD_HISTORY_PUBLIC.shp\")\n",
    "\n",
    "# Convert geometry to WKT\n",
    "gdf_flood['geometry'] = gdf_flood.geometry.to_wkt()  \n",
    "\n",
    "# Convert GeoDataFrame to Pandas DataFrame\n",
    "pdf_flood = pd.DataFrame(gdf_flood)  \n",
    "\n",
    "# Create Spark DataFrame\n",
    "spark_df_flood = spark.createDataFrame(pdf_flood)\n",
    "\n",
    "# Display the Spark DataFrame\n",
    "display(spark_df_flood)\n",
    "\n",
    "(\n",
    "  spark_df_flood\n",
    "#  .drop(\"CONS_MAT\", \"URBAN\") # remove void column (spark infers all null column as void)\n",
    "  .write.mode(\"overwrite\")\n",
    "  .option(\"overwriteSchema\", \"true\")\n",
    "  .saveAsTable(f\"{catalog}.{schema}.bronze_flooding\")\n",
    ")"
   ]
  },
  {
   "cell_type": "code",
   "execution_count": 0,
   "metadata": {
    "application/vnd.databricks.v1+cell": {
     "cellMetadata": {
      "byteLimit": 2048000,
      "implicitDf": true,
      "rowLimit": 10000
     },
     "inputWidgets": {},
     "nuid": "9ff1b781-4116-4b72-bec4-b706e3055bd3",
     "showTitle": true,
     "tableResultSettingsMap": {},
     "title": "Create Silver Flooding Table with H3 and Transformed Geometry"
    }
   },
   "outputs": [],
   "source": [
    "%sql\n",
    "CREATE OR REPLACE TABLE danny_catalog.vicmap_schema.silver_flooding AS \n",
    "SELECT SUBTYPE, INCIDENT_N, FLOOD_OBS_, SOURCE, COMMENTS, st_astext(st_transform(st_setsrid(st_geomfromwkt(geometry), 7899), 4326)) as geom_4326, inline(h3_tessellateaswkb(st_astext(st_transform(st_setsrid(st_geomfromwkt(geometry), 7899), 4326)), 7)) -- resolution 7\n",
    "FROM danny_catalog.vicmap_schema.bronze_flooding"
   ]
  },
  {
   "cell_type": "markdown",
   "metadata": {
    "application/vnd.databricks.v1+cell": {
     "cellMetadata": {},
     "inputWidgets": {},
     "nuid": "63594497-32d6-4dcd-b86b-9e693671474e",
     "showTitle": false,
     "tableResultSettingsMap": {},
     "title": ""
    }
   },
   "source": [
    "## Find out all the address in the flood zone"
   ]
  },
  {
   "cell_type": "code",
   "execution_count": 0,
   "metadata": {
    "application/vnd.databricks.v1+cell": {
     "cellMetadata": {
      "byteLimit": 2048000,
      "implicitDf": true,
      "rowLimit": 10000
     },
     "inputWidgets": {},
     "nuid": "f1b2247f-6092-4947-a449-ac6e42b22093",
     "showTitle": true,
     "tableResultSettingsMap": {},
     "title": "Spatial join Address and Flood Data with hybrid H3 geometry"
    }
   },
   "outputs": [],
   "source": [
    "%sql\n",
    "CREATE OR REPLACE TABLE danny_catalog.vicmap_schema.address_in_flood_zone AS\n",
    "SELECT add.*, flo.geom_4326 as geom_polygon, flo.FLOOD_OBS_, flo.INCIDENT_N, flo.COMMENTS \n",
    "FROM danny_catalog.vicmap_schema.silver_address add\n",
    "JOIN danny_catalog.vicmap_schema.silver_flooding flo\n",
    "ON flo.cellid = h3_toparent(add.h3, 7) -- upscale from 9 to 7\n",
    "WHERE flo.core OR st_contains(st_geomfromwkb(flo.chip), st_geomfromwkt(add.geom_4326))"
   ]
  },
  {
   "cell_type": "code",
   "execution_count": 0,
   "metadata": {
    "application/vnd.databricks.v1+cell": {
     "cellMetadata": {
      "byteLimit": 2048000,
      "implicitDf": true,
      "rowLimit": 10000
     },
     "inputWidgets": {},
     "nuid": "af5f9c3a-938f-4f7e-a3c5-019946e15327",
     "showTitle": true,
     "tableResultSettingsMap": {},
     "title": "Querying Addresses in Flood Zones from Vicmap"
    }
   },
   "outputs": [],
   "source": [
    "%sql\n",
    "SELECT * FROM danny_catalog.vicmap_schema.address_in_flood_zone"
   ]
  },
  {
   "cell_type": "code",
   "execution_count": 0,
   "metadata": {
    "application/vnd.databricks.v1+cell": {
     "cellMetadata": {
      "byteLimit": 2048000,
      "rowLimit": 10000
     },
     "inputWidgets": {},
     "nuid": "51b565f4-c467-41cc-97dd-832d8e46ee8f",
     "showTitle": true,
     "tableResultSettingsMap": {},
     "title": "Visualizing Flood Data and Points on a Map"
    }
   },
   "outputs": [],
   "source": [
    "import folium\n",
    "import pandas as pd\n",
    "import h3\n",
    "from shapely.geometry import Polygon, Point\n",
    "from shapely import wkt\n",
    "\n",
    "# Load H3 hexagon indices and FTYPE_CODE from the SQL table into a Pandas DataFrame\n",
    "df_h3 = spark.sql(\"SELECT FLOOD_OBS_, h3_h3tostring(h3) as h3 FROM _sqldf\").toPandas()\n",
    "\n",
    "# Load points in WKT format from the SQL table into a Pandas DataFrame\n",
    "df_points = spark.sql(\"SELECT EZI_ADDRESS, geom_4326 FROM _sqldf\").toPandas()\n",
    "\n",
    "# Load polygons in WKT format from the SQL table into a Pandas DataFrame\n",
    "df_polygons = spark.sql(\"SELECT DISTINCT geom_polygon, FLOOD_OBS_ FROM _sqldf\").toPandas()\n",
    "\n",
    "# Create a base map\n",
    "#m = folium.Map(location=[-37.8215, 145.126], zoom_start=13)\n",
    "m = create_vicmap_basemap(zoom_start=10)\n",
    "\n",
    "# Add H3 hexagons to the map with orange color\n",
    "for _, row in df_h3.iterrows():\n",
    "    hex_boundary = h3.cell_to_boundary(row['h3'])\n",
    "    polygon = Polygon(hex_boundary)\n",
    "    geojson = folium.GeoJson(\n",
    "        data=polygon.__geo_interface__,\n",
    "        tooltip=row['FLOOD_OBS_'],\n",
    "        style_function=lambda feature: {\n",
    "            'fillColor': 'orange',\n",
    "            'color': 'orange',\n",
    "            'weight': 1,\n",
    "            'fillOpacity': 0.5,\n",
    "        }\n",
    "    )\n",
    "    geojson.add_to(m)\n",
    "\n",
    "# Add polygons to the map\n",
    "for _, row in df_polygons.iterrows():\n",
    "    polygon = wkt.loads(row['geom_polygon'])\n",
    "    geojson = folium.GeoJson(\n",
    "        data=polygon.__geo_interface__,\n",
    "        tooltip=row['FLOOD_OBS_'],\n",
    "        style_function=lambda feature: {\n",
    "            'fillColor': 'blue',\n",
    "            'color': 'blue',\n",
    "            'weight': 1,\n",
    "            'fillOpacity': 0.3,\n",
    "        }\n",
    "    )\n",
    "    geojson.add_to(m)\n",
    "\n",
    "# Add points to the map as circles with different colors for different FTYPE_CODE\n",
    "for _, row in df_points.iterrows():\n",
    "    point = wkt.loads(row['geom_4326'])\n",
    "    folium.CircleMarker(\n",
    "        location=[point.y, point.x],\n",
    "        radius=0.5,\n",
    "        color='red',\n",
    "        fill=True,\n",
    "        fill_color='red',\n",
    "        fill_opacity=0.6,\n",
    "        tooltip=row['EZI_ADDRESS']\n",
    "    ).add_to(m)\n",
    "\n",
    "# Display the map\n",
    "display(m)\n",
    "\n",
    "# Write to a HTML file in UC volume\n",
    "uc_html_path = f\"/Volumes/{catalog}/{schema}/{volume}/flood_map.html\"\n",
    "m.save(uc_html_path)"
   ]
  },
  {
   "cell_type": "markdown",
   "metadata": {
    "application/vnd.databricks.v1+cell": {
     "cellMetadata": {},
     "inputWidgets": {},
     "nuid": "9c0152e3-4c0b-4b7b-b5fa-4ba0548011ad",
     "showTitle": false,
     "tableResultSettingsMap": {},
     "title": ""
    }
   },
   "source": [
    "#### Download and Check out the html file in the UC volume"
   ]
  },
  {
   "cell_type": "markdown",
   "metadata": {
    "application/vnd.databricks.v1+cell": {
     "cellMetadata": {},
     "inputWidgets": {},
     "nuid": "bfe0ce34-0de8-4d1b-96f1-e5723a34fd1a",
     "showTitle": false,
     "tableResultSettingsMap": {},
     "title": ""
    }
   },
   "source": [
    "![](sample_flood_map.png)"
   ]
  }
 ],
 "metadata": {
  "application/vnd.databricks.v1+notebook": {
   "computePreferences": {
    "hardware": {
     "accelerator": null,
     "gpuPoolId": null,
     "memory": null
    }
   },
   "dashboards": [],
   "environmentMetadata": {
    "base_environment": "",
    "environment_version": "2"
   },
   "inputWidgetPreferences": null,
   "language": "python",
   "notebookMetadata": {
    "mostRecentlyExecutedCommandWithImplicitDF": {
     "commandId": 7424973428884393,
     "dataframes": [
      "_sqldf"
     ]
    },
    "pythonIndentUnit": 2
   },
   "notebookName": "1. Exploring VicMaps Data",
   "widgets": {
    "catalog": {
     "currentValue": "danny_catalog",
     "nuid": "40926864-8683-45e6-86cb-a0dd8358fea2",
     "typedWidgetInfo": {
      "autoCreated": false,
      "defaultValue": "",
      "label": "Catalog",
      "name": "catalog",
      "options": {
       "widgetDisplayType": "Text",
       "validationRegex": null
      },
      "parameterDataType": "String"
     },
     "widgetInfo": {
      "widgetType": "text",
      "defaultValue": "",
      "label": "Catalog",
      "name": "catalog",
      "options": {
       "widgetType": "text",
       "autoCreated": null,
       "validationRegex": null
      }
     }
    },
    "schema": {
     "currentValue": "vicmap_schema",
     "nuid": "5be412a1-da45-4382-bca0-50549f0bab64",
     "typedWidgetInfo": {
      "autoCreated": false,
      "defaultValue": "",
      "label": "Schema",
      "name": "schema",
      "options": {
       "widgetDisplayType": "Text",
       "validationRegex": null
      },
      "parameterDataType": "String"
     },
     "widgetInfo": {
      "widgetType": "text",
      "defaultValue": "",
      "label": "Schema",
      "name": "schema",
      "options": {
       "widgetType": "text",
       "autoCreated": null,
       "validationRegex": null
      }
     }
    },
    "volume": {
     "currentValue": "sources",
     "nuid": "2c39b374-e8c3-4329-9c85-1f1aca41cb35",
     "typedWidgetInfo": {
      "autoCreated": false,
      "defaultValue": "",
      "label": "Volume",
      "name": "volume",
      "options": {
       "widgetDisplayType": "Text",
       "validationRegex": null
      },
      "parameterDataType": "String"
     },
     "widgetInfo": {
      "widgetType": "text",
      "defaultValue": "",
      "label": "Volume",
      "name": "volume",
      "options": {
       "widgetType": "text",
       "autoCreated": null,
       "validationRegex": null
      }
     }
    }
   }
  },
  "language_info": {
   "name": "python"
  }
 },
 "nbformat": 4,
 "nbformat_minor": 0
}
